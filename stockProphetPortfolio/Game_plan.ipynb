{
 "cells": [
  {
   "cell_type": "markdown",
   "metadata": {},
   "source": [
    "# notes\n",
    "\n",
    "https://link.springer.com/article/10.1186/2251-712X-9-1 - use currency exchange relative change"
   ]
  },
  {
   "cell_type": "markdown",
   "metadata": {},
   "source": [
    "consider:\n",
    "\n",
    "1. gathering minute data\n",
    "\n",
    "2. Dealing with Nan values in minute data\n",
    "\n",
    "3. Minute data from IEX not correspond with NYSE\n",
    "\n",
    "4. Setting up and cleaning IEX data on 500 stocks + SPY\n",
    "\n",
    "5. Editing the model so that it can digest infromation effeciently and in a useful manner\n",
    "    a. simplifying the model\n",
    "    b. more neurons\n",
    "    c. organizing the data in different manners\n",
    "    d. combining pretrained neural networks\n",
    "\n",
    "6. Finding the best model. LSTM?\n",
    "\n",
    "7. Why is binary single output not working\n",
    "\n",
    "8. Why is the output prediction array and target array seem to be oppisite (negative profit values but +50% acc)\n",
    "\n",
    "9. Putting in technical indicators?\n",
    "    a. should we use price values or only price change\n",
    "    b. integrated average price change? \n",
    "    c. RSI\n",
    "    d. MACD\n",
    "\n",
    "10. Adding in volume\n",
    "\n",
    "11. Google trends for minute by minute interest\n",
    "\n",
    "12. Making predictions for multiple periods ahead\n",
    "\n",
    "13. Markov decision trees, prediction/confidence network?, combining models, short term rewards , alphagozero?\n",
    "\n",
    "14. Gathering news\n",
    "    Reuters\n",
    "    Twitter\n",
    "    SEC filings\n",
    "\n",
    "15. Sentiment analysis on headlines? Or the entire article?\n",
    "    a. for whole stock market?\n",
    "    b. for a single stock?\n",
    "    c. for global events?\n",
    "    \n",
    "16. Getting real time data that may vary by a few seconds\n",
    "\n",
    "17. What about other price factors such as\n",
    "    a. low, high, close, adj close\n",
    "    b. market average, average, number of trades , time\n",
    "    \n",
    "18. Google trends on financial terms for long term prediction\n",
    "\n",
    "19. Understanding language?\n",
    "    a. can understand words and their relationships\n",
    "    b. Can it understand non quantitative events (eg. Brexit, corporate decisions, policies)\n",
    "    \n",
    "20. More non stock market quantative inputs\n",
    "    a. exports, consumption, GDP , oil prices\n",
    "    b. Fundamentals - sales, PE ratio, debt, quarterly earnings\n",
    "    \n",
    "21. Analyst recommendations?\n",
    "\n",
    "22. Using technical indicators both for AI and for helping making decisions post AI predictions\n",
    "\n",
    "23. How to implement the mechanism that trades. Buy, hold, sell all stocks every minute?\n",
    "\n",
    "24. Categorization, or predicting price/ change in price\n",
    "\n",
    "25. Getting 25k for day trading\n",
    "\n",
    "26. Horizontal stock picking, picking based on company and not just on timing both for minute and day AI\n",
    "\n",
    "27. Combining all the AI into one? Hour by hour AI?\n",
    "\n",
    "28. Platform to do virtual trading"
   ]
  },
  {
   "cell_type": "markdown",
   "metadata": {},
   "source": [
    "for now:\n",
    "\n",
    "1. Minutes trading\n",
    "    A. Predict SPY with all 500 stocks using IEX to fill in data not existing, and using alphavantage for recent data\n",
    "    B. Saving alphavantage data in an excel file\n",
    "    C. Figure out why prediction and target array appear switched. Also figure out why single output binary classification fails\n",
    "    D. Try to predict other stocks with all 500 stock data\n",
    "    E. Take one stock and using only SPY stock (optional) + the stock get price change data, volume, average changes , MACD, RSI\n",
    "    F. Predict SPY with all 500 stocks + indicators\n",
    "    G. Make stock program purely built on many technical indicators\n",
    "    H. Create a way to select the stock most likely to increas in the next minute\n",
    "    I. Find a way to incorporate google trends data into minute by minute prediction\n",
    "    J. Alternative data\n",
    "    K. Predictions for smaller stocks\n",
    "    \n",
    "2. Day by day trading\n",
    "    SECTION X: trading based on analytical information\n",
    "    SECTION Y: Non continuos data (i.e fundamentals)\n",
    "    SECTION Z: Non quantative data (i.e news articles)\n",
    "    \n",
    "3. General\n",
    "    A. Create hour by hour trader?\n",
    "    B. Fast trading, incorporating real time updated data\n",
    "    C. Find a platform with python interface for virtual trading\n",
    "    D. How will trading decisions actually by executed\n",
    "        sub 1: Do we run several AI and take outputs from all of them seperately then run a fixed algorithm or feed into another AI (eg. up day prediction means more bias for buys by minute by minute trader)\n",
    "        sub 2: Do we incorporate regular non AI algorathims and technical indicators\n",
    "        sub 3: Analysts recommendations\n",
    "        sub 4: How to decide based on the prediction. Does an up minute we buy completely or down minute mean sell completely?\n",
    "    E. "
   ]
  },
  {
   "cell_type": "code",
   "execution_count": 104,
   "metadata": {},
   "outputs": [],
   "source": [
    "new_cap = 9000\n",
    "month_return_rate = .1"
   ]
  },
  {
   "cell_type": "code",
   "execution_count": 105,
   "metadata": {},
   "outputs": [
    {
     "name": "stdout",
     "output_type": "stream",
     "text": [
      "month:  1  real_capital:     10800.00  gain:    1800.00\n",
      "month:  2  real_capital:     12960.00  gain:    2160.00\n",
      "month:  3  real_capital:     15552.00  gain:    2592.00\n",
      "month:  4  real_capital:     18662.40  gain:    3110.40\n",
      "month:  5  real_capital:     22394.88  gain:    3732.48\n",
      "month:  6  real_capital:     26873.86  gain:    4478.98\n",
      "month:  7  real_capital:     32248.63  gain:    5374.77\n",
      "month:  8  real_capital:     38698.35  gain:    6449.73\n",
      "month:  9  real_capital:     46438.02  gain:    7739.67\n",
      "month: 10  real_capital:     55725.63  gain:    9287.60\n",
      "month: 11  real_capital:     66870.75  gain:   11145.13\n",
      "month: 12  real_capital:     80244.90  gain:   13374.15\n",
      "month: 13  real_capital:     96293.88  gain:   16048.98\n",
      "month: 14  real_capital:    115552.66  gain:   19258.78\n",
      "month: 15  real_capital:    138663.19  gain:   23110.53\n",
      "month: 16  real_capital:    166395.83  gain:   27732.64\n",
      "month: 17  real_capital:    199675.00  gain:   33279.17\n",
      "month: 18  real_capital:    239610.00  gain:   39935.00\n",
      "month: 19  real_capital:    287532.00  gain:   47922.00\n",
      "month: 20  real_capital:    345038.40  gain:   57506.40\n",
      "month: 21  real_capital:    414046.08  gain:   69007.68\n",
      "month: 22  real_capital:    496855.30  gain:   82809.22\n",
      "month: 23  real_capital:    596226.35  gain:   99371.06\n",
      "month: 24  real_capital:    715471.62  gain:  119245.27\n",
      "month: 25  real_capital:    858565.95  gain:  143094.32\n",
      "month: 26  real_capital:   1030279.14  gain:  171713.19\n",
      "month: 27  real_capital:   1236334.97  gain:  206055.83\n",
      "month: 28  real_capital:   1483601.96  gain:  247266.99\n"
     ]
    }
   ],
   "source": [
    "for i in range(28):\n",
    "    old_cap = new_cap\n",
    "    lev_cap = 2 * new_cap\n",
    "    new_cap = lev_cap * month_return_rate + new_cap\n",
    "    print(\"month: {:2}  real_capital: {:12.2f}  gain: {:10.2f}\".format(i+1 , new_cap , new_cap - old_cap))\n",
    "    \n",
    "    "
   ]
  },
  {
   "cell_type": "code",
   "execution_count": 92,
   "metadata": {},
   "outputs": [
    {
     "data": {
      "text/plain": [
       "1.004776882087206"
      ]
     },
     "execution_count": 92,
     "metadata": {},
     "output_type": "execute_result"
    }
   ],
   "source": [
    "1.1 ** (1/20)"
   ]
  },
  {
   "cell_type": "code",
   "execution_count": 89,
   "metadata": {},
   "outputs": [
    {
     "data": {
      "text/plain": [
       "1.1962537845156107"
      ]
     },
     "execution_count": 89,
     "metadata": {},
     "output_type": "execute_result"
    }
   ],
   "source": [
    "1.009 ** 20"
   ]
  },
  {
   "cell_type": "code",
   "execution_count": 3,
   "metadata": {},
   "outputs": [
    {
     "name": "stdout",
     "output_type": "stream",
     "text": [
      "total accuracy = 0.62359\n",
      "0 accuracy = 0.6513\n",
      "390 accuracy = 0.5974\n",
      "780 accuracy = 0.6179\n",
      "1170 accuracy = 0.5923\n",
      "1560 accuracy = 0.6051\n",
      "1950 accuracy = 0.6538\n",
      "2340 accuracy = 0.6487\n",
      "2730 accuracy = 0.6385\n",
      "3120 accuracy = 0.6333\n",
      "3510 accuracy = 0.6282\n",
      "3900 accuracy = 0.6410\n",
      "4290 accuracy = 0.6308\n",
      "4680 accuracy = 0.6256\n",
      "5070 accuracy = 0.5923\n",
      "5460 accuracy = 0.6051\n",
      "5850 accuracy = 0.5963\n"
     ]
    }
   ],
   "source": [
    "print(\"\"\"total accuracy = 0.62359\n",
    "0 accuracy = 0.6513\n",
    "390 accuracy = 0.5974\n",
    "780 accuracy = 0.6179\n",
    "1170 accuracy = 0.5923\n",
    "1560 accuracy = 0.6051\n",
    "1950 accuracy = 0.6538\n",
    "2340 accuracy = 0.6487\n",
    "2730 accuracy = 0.6385\n",
    "3120 accuracy = 0.6333\n",
    "3510 accuracy = 0.6282\n",
    "3900 accuracy = 0.6410\n",
    "4290 accuracy = 0.6308\n",
    "4680 accuracy = 0.6256\n",
    "5070 accuracy = 0.5923\n",
    "5460 accuracy = 0.6051\n",
    "5850 accuracy = 0.5963\"\"\")"
   ]
  },
  {
   "cell_type": "code",
   "execution_count": null,
   "metadata": {},
   "outputs": [],
   "source": []
  }
 ],
 "metadata": {
  "kernelspec": {
   "display_name": "Python 3",
   "language": "python",
   "name": "python3"
  },
  "language_info": {
   "codemirror_mode": {
    "name": "ipython",
    "version": 3
   },
   "file_extension": ".py",
   "mimetype": "text/x-python",
   "name": "python",
   "nbconvert_exporter": "python",
   "pygments_lexer": "ipython3",
   "version": "3.6.7"
  }
 },
 "nbformat": 4,
 "nbformat_minor": 2
}
