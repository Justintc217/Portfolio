{
 "cells": [
  {
   "cell_type": "markdown",
   "metadata": {},
   "source": [
    "3_26_19: RMS prop\n",
    "\n",
    "00:15 - talked with Grayson about what to work on next. Found that RMSprop is recommended for RNN optimizer Things to do:\n",
    "1. Download new data set\n",
    "2. Write outline of program -- done\n",
    "3. Learn details about how LSTM dimensions work\n",
    "4. Test simple network with just a few inputs on minute resolution data\n",
    "5. Clean up programs and expand library. Perhaps parse it into different librarys"
   ]
  },
  {
   "cell_type": "markdown",
   "metadata": {},
   "source": [
    "3_20_19: buy bias, 3_14 data set, cleaning up, trade with one stock data, partial connections\n",
    "\n",
    "13:47 - decided its better to download data sets into csv files. Thinking it would really be nice to train on a good data set that is clean, unfortunately that will be very expensive. Another option is downloading the data from intrinio while it streams.\n",
    "\n",
    "Buy bias - a concern of mine is that because there are more buys then sells than it doesn't have to predict with any accuracy as long as it weights toward buying. On the other hand an ideal network would probably also have a buying bias\n",
    "\n",
    "learning from one stock - many traders trade based on just price and volume of a stock. Perhaps they are not even looking at many other stocks simaltaneously except perhaps snp500 and a market etf. Perhaps by learning on just one stock\n",
    "\n",
    "Long ways away - I expect that it will still take 3 months of dedicated time before I will have a working NN\n",
    "\n",
    "Partial connections - it seems that partial connections can be better and more brain like. Perhaps a good strategy is to have each stock data set analyzed seperately through an LSTM then A CNN or another LSTM can analyze them and connect the information. This seems like it could learn the relationships between price and volume of a stock. Since there is limited data it is important that the NN be simple and not overconnected.\n",
    "\n",
    "cleaning up - everything is very messy and redundant. Create a master SP library and then need 3 main programs. \n",
    "1. Data gatherer\n",
    "2. Day predictor\n",
    "3. Minutes predictor\n",
    "Maybe even combine Day and minutes predictor since the only difference is the time resolution and the datasets."
   ]
  },
  {
   "cell_type": "markdown",
   "metadata": {},
   "source": [
    "3_10_19: MFI, price change for RSI, Intrinio, direction indicator\n",
    "\n",
    "20:30 - developed MFI. Not sure if correct, still need to test it. I noticed my RSI formula uses change in price rather than price. This is how they did it in examples online. It also makes sense because a big drop in price relative to a baseline small drop in price would decrease the average loss for price (because the price number is smaller) and increase the average loss for price change (because the change is bigger). The MF however does use the price times the volume and not its change. Meaning if price decreases a lot relative to a small decrease while volume remains the same the loss becomes smaller making MF bigger and MFI bigger which seems odd. Perhaps change of price times current volume (or perhaps better is change in volume as a big drop in volume would indicate low MF) would be better so as the drops get bigger the average loss would get bigger too. However if volume changes there is no information as to if its up or down if its based on change in volume. \n",
    "\n",
    "Volume effectively gives weight to the motion of the MF, bigger volume means more change in MF.\n",
    "Bigger change in price also has a bigger change in MF\n",
    "\n",
    "+p+v = +MF\n",
    "+p-v = +MF small\n",
    "-p+v = -MF \n",
    "-p-v = -MF small\n",
    "+pc+v = +MF\n",
    "+pc-v = +MF small\n",
    "-pc+v = -MF \n",
    "-pc-v = -MF small\n",
    "\n",
    "Recently came across Intrinio. I want to test it for a month and see what the lag time between information and purchase. Can stream up to 250 stocks at once\n",
    "\n",
    "One study used a direction indicator by suggesting that in downward movements the close price is closer to the lowest price. and vice versa for upward movements and the highest price. They found this useful so I might use it too"
   ]
  },
  {
   "cell_type": "markdown",
   "metadata": {},
   "source": [
    "3_5_19\n",
    "\n",
    "3:01 - worked on finding a way to merge multiple networks but now I'm double questioning the effectiveness of this strategy. For example the prices of commidities seem not very well related to SPY. Tried running many stocks including top portion of SNP500, spy, vix, some commidities, international, and currencies but the performance was quite poor. It seems like a neural network should be able to eventually learn how movements of various quantities such as currencies would affect the spy the following day. Perhaps the model is training to quickly and can through brute force find a complex system that matches the ~1600 samples that has no real connection with reality.\n",
    "\n",
    "It would be interesting to see if it trains differently based on different stock sets. This may indicate if it has any connection to reality. If not then it might as well use completely random data to predict the stock market and as long as the data stays the same it will eventually match during training."
   ]
  },
  {
   "cell_type": "markdown",
   "metadata": {},
   "source": [
    "3_4_19\n",
    "\n",
    "4:03 - It appears that the setup_super model in minutesv0.4 performs slightly better with higher dropout (0.5 vs 0.05). It will be very useful to test this model on more recent data sets. Ultimately the goal is to create a high resolution model that can predict turn arounds and provide some level of its own confidence.\n",
    "\n",
    "1. Model NN on a procedural predictor that uses technical indicators. For example when RSI is around 0.7 the NN should sell. Later it will learn with more precision. In addition you could train the NN on many different stocks since its goal is simply to adjust for a more accurate RSI pattern although this doesn't allow you to have as much breadth of data when running\n",
    "\n",
    "2. \n",
    "\n",
    "3. New NN model:\n",
    "Train 5 different groups (currency, commodity, international, snp500, spy+vix) each seperately with a dummy last layer. Then remove the dummy layer and combine the output of each of the 5 groups and process it through a new network to produce the final outcome. \n",
    "\n",
    "Variations: using google trends, using RSI or MFI, breaking groups down into sub groups, training each group with SPY data\n",
    "\n",
    "10:42 - tried setup_super on 2_19 minutes data and performance was mediocre. It did alright when dropout was high but seemed bias toward buy side extremely sometimes. It seems the closer the unseen data is to the seen data the more accurate it is. this seems theoretically true especially given limited data since presumambly since it will be following the local patterns found.\n",
    "\n",
    "00:48 rant - Feeling lost on where to go next. Lots of issues to think about. \n",
    "\n",
    "People are looking for profit when they invest while minimizing risk. To accomplish this investors should buy low and sell high when taking a long position. Essentially all money is made this way from the low resolution to the high time resolution. You only make money if the stock goes up or down. On a macroscopic scale this problem comes down to trend reversal\n",
    "\n",
    "Predicting micro movements is very challenging and comes with understanding human psychology and the algorithms that predict based on psychology and other algorithms, also with ahead of time knowledge of price information. Micromovements won't be achievable for SP.\n",
    "\n",
    "On larger scales (minute resolution) you still have algorithms and humans trying to time any changes in the market. News can also be important as it can change the trend and it could take several minutes until the investor catches on to the change purely from an analytical perspective. The movements of other financial assets can also influence the motion of a stock. Generally these are movements of competitors, other companies involved in the chain of resources that the company makes use of, the motion of the sector, and of the market.\n",
    "\n",
    "Factors that influence a stock\n",
    "    News\n",
    "    Analyst recommendations\n",
    "    Price\n",
    "    Time\n",
    "    Volume\n",
    "    motion of stock\n",
    "    motion of competing stocks\n",
    "    motion of sector\n",
    "    motion of related coporate stocks\n",
    "    motion of market\n",
    "    psychology\n",
    "    Retailers using technical data\n",
    "    Algorithms \n",
    "    Fundamentals\n",
    "    \n",
    "One of the biggest issues is to buy a stock someone else has to be selling it. Knowing how people think and algorithms invest is important. Generally speaking a stock will not shoot up 10% in one minute, however if it does is there any gaurantee it won't continue to go up? If you flip a coin 100 times and it happens to all be heads, however rare that is if you flip a coin again it has 50% chance either way. However stocks tend to oscillate. If a company hasn't changed and the stock price was stable then it suddenly goes up most investors would fear it would come back down. Of course everyone could keep investing in it and make it continue to go up but that would increase this fear even more and if not either the company either has a new normal and people decide to invest in other companies as the stock no longer goes up or it continues to go up still and gets saturated with all the stock being bought and none of it being sold in which case it no longer becomes profitable to hold the stock since it has no volatility. Of course the fear of this and the fear of people being afraid is what stops the trend early.\n",
    "SP goal then should be to predict these reversals.\n",
    "\n",
    "For trading from one day to the next factors like news, analyst recommendations, after hours trading, and company reports have a bigger affect. This is because missing the news might change a trend and with only data from yesterday this could cause losses. When trading at high frequencies and gathering data consistently most of the trading time isn't heavily influenced by news and even if it is you can catch the trend change and then adjust accordingly so that the losses are minimal. These factors are all very difficult to automate. To automate a neural network must either trivially look at general sentiment of the stock based on news or more complexly create a deeper understanding of financial language and how different political and corporate factors influence the stock market. Google trends might be a useful indicator that is a proxy for investor interest. This is easy to build into a NN\n",
    "\n",
    "It's not clear how much the past prices affect the direction of the current price of a stock. Lots of articles about LSTM networks seem to indicate they work but it seems like they mostly predict the previous price. This article agrees \"What they don’t show, however, is that their LSTMs basically just get really good at using the previous day’s price (or some combination of the previous day and the recent history of stock prices prior to that day) to act as a stand-in for the next day’s price.\"\n",
    "from: https://medium.com/apteo/stock-prices-dont-predict-stock-prices-bbf3e421bedf\n",
    "\n",
    "\n",
    "    "
   ]
  },
  {
   "cell_type": "code",
   "execution_count": null,
   "metadata": {},
   "outputs": [],
   "source": []
  },
  {
   "cell_type": "markdown",
   "metadata": {},
   "source": [
    "12_10_18:\n",
    "\n",
    "1. Would training seperate groups of stocks be more effective then training them altogether. How should they be grouped\n",
    "\n",
    "2. What is the best activation function. Modified RELU?\n",
    "\n",
    "3. What should be the time sample size\n",
    "\n",
    "4. Normalize prices fluctuations? \n",
    "\n",
    "5. Incorporating high, low, and volume for day res trading\n",
    "\n",
    "6. residual network better that lets original signal pass\n",
    "\n",
    "7. What is better: classification or regression\n",
    "\n",
    "\n",
    "\n",
    "19:19 - begin\n",
    "\n",
    "NEXT: simplify setup_data to just make one refined dataset. This can be parsed later\n",
    "\n",
    "23:10 - tested dropout and applied some activation functions. Dropout seems to slow down the learning process and seems to stablize the accuracy for a longer period. Time periods also seem to greatly influence the outcome. training on similar time periods/similar trends seems to increase accuracy.\n",
    "    Also divided target into 5 classes instead of 2 (buy, sell) which felt like it gave more information on the confidence level of the AI.\n",
    "    Seperate neural networks trained, on short data with high dropout, then merged may perform well on nearby time series data. Also may provide much information on how different factors influence the SNP500. You can also add the recommendation of a network with combined data into the master network. You could even have neural networks of different types and trained over different time periods"
   ]
  },
  {
   "cell_type": "markdown",
   "metadata": {},
   "source": [
    "12_6_18:\n",
    "\n",
    "\n",
    "12:22 - begin\n",
    "\n",
    "13:43 - fixed minutes gathering data; now gathers into one data frame, loops through try and except, then saves to excel afterward\n",
    "    - when combining dataframes of different times; I made a function to do that while fixing the indicies \n",
    "    - lots of missing data; maybe running the data gatherer every day will be necessary\n",
    "    \n",
    "NEXT: create list of things to do for group\n",
    "\n",
    "14:33 - wrote subgoals in google drive, messaged Andrew, requested help on NLP from group\n",
    "\n",
    "NEXT 16:27: work on cleaning program and developing a way to check the accuracy of regression neural network\n",
    "\n",
    "19:26 - developed regressive neural network and way of checking accuracy and profitability\n",
    "\n",
    "found; for approximately 2017 period with 10 iterations of 5 training cycles the LSTM 2 layer model produced the following profitabilities = [-11.1, 14.5, 15.6, 24.9, 25.2, 25.9, 37.3, 49.9, 55.5, 56.2] with the BAH profit ~ 32.\n",
    "Mean = 29.4, median = 25.5"
   ]
  },
  {
   "cell_type": "markdown",
   "metadata": {},
   "source": [
    "1. Not sure if minutes data gathering matches the index for each stock\n",
    "\n",
    "2. Want to set up method for deciding if AI is better than buy and hold strategy. AI issue of just always buying"
   ]
  },
  {
   "cell_type": "markdown",
   "metadata": {},
   "source": [
    "Stay motivated, break things down, one step at a time. Every problem will have a solution, easy things aren't rewarding. Taking breaks is important"
   ]
  }
 ],
 "metadata": {
  "kernelspec": {
   "display_name": "Python 3",
   "language": "python",
   "name": "python3"
  },
  "language_info": {
   "codemirror_mode": {
    "name": "ipython",
    "version": 3
   },
   "file_extension": ".py",
   "mimetype": "text/x-python",
   "name": "python",
   "nbconvert_exporter": "python",
   "pygments_lexer": "ipython3",
   "version": "3.6.7"
  }
 },
 "nbformat": 4,
 "nbformat_minor": 2
}
