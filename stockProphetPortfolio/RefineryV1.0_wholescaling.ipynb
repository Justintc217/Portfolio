{
 "cells": [
  {
   "cell_type": "code",
   "execution_count": 3,
   "metadata": {
    "scrolled": false
   },
   "outputs": [],
   "source": [
    "%run SP_lib.ipynb\n",
    "from os import listdir"
   ]
  },
  {
   "cell_type": "code",
   "execution_count": 4,
   "metadata": {},
   "outputs": [],
   "source": [
    "data_path = directory + \"/minutes\" + \"/raw\"\n",
    "data_files = np.array([data_path + \"/%s\" % i for i in os.listdir(path = data_path)])"
   ]
  },
  {
   "cell_type": "code",
   "execution_count": 6,
   "metadata": {},
   "outputs": [
    {
     "data": {
      "text/plain": [
       "array(['C:/Users/jutnl/recursiveparadox/StockProphet/Data//minutes/raw/03_26_2019_minutes.csv',\n",
       "       'C:/Users/jutnl/recursiveparadox/StockProphet/Data//minutes/raw/04_11_2019_minutes.csv',\n",
       "       'C:/Users/jutnl/recursiveparadox/StockProphet/Data//minutes/raw/04_17_2019_minutes.csv',\n",
       "       'C:/Users/jutnl/recursiveparadox/StockProphet/Data//minutes/raw/04_26_2019_minutes.csv'],\n",
       "      dtype='<U85')"
      ]
     },
     "execution_count": 6,
     "metadata": {},
     "output_type": "execute_result"
    }
   ],
   "source": [
    "chosen = [1,2,4,5]\n",
    "data_files[chosen]"
   ]
  },
  {
   "cell_type": "code",
   "execution_count": 7,
   "metadata": {},
   "outputs": [],
   "source": [
    "dfs = [pd.read_csv(i, index_col=0) for i in data_files[chosen]]"
   ]
  },
  {
   "cell_type": "code",
   "execution_count": 8,
   "metadata": {
    "scrolled": false
   },
   "outputs": [],
   "source": [
    "all_data = pd.concat(dfs, axis = 0, sort = False, ignore_index = False)#.drop_duplicates()"
   ]
  },
  {
   "cell_type": "code",
   "execution_count": 9,
   "metadata": {},
   "outputs": [],
   "source": [
    "all_data = all_data.fillna(method = \"ffill\").fillna(method = \"bfill\")"
   ]
  },
  {
   "cell_type": "code",
   "execution_count": 10,
   "metadata": {},
   "outputs": [
    {
     "name": "stdout",
     "output_type": "stream",
     "text": [
      "['2019-03-19', '2019-03-25'] ['2019-04-04', '2019-04-10'] ['2019-04-11', '2019-04-17'] ['2019-04-18', '2019-04-25']\n"
     ]
    }
   ],
   "source": [
    "periods = [[dt.datetime.strptime(df.index[i], \"%Y-%m-%d %H:%M:%S\").strftime(\"%Y-%m-%d\") for i in [0,-1]] for df in dfs]\n",
    "print(*periods)\n",
    "# show beginning and end period of each data_set"
   ]
  },
  {
   "cell_type": "code",
   "execution_count": 11,
   "metadata": {},
   "outputs": [],
   "source": [
    "all_data.to_csv(directory + \"/minutes/\" + periods[0][0] + \"_to_\" + periods[-1][-1] + \"_minutes\")"
   ]
  },
  {
   "cell_type": "code",
   "execution_count": null,
   "metadata": {},
   "outputs": [],
   "source": []
  }
 ],
 "metadata": {
  "kernelspec": {
   "display_name": "Python 3",
   "language": "python",
   "name": "python3"
  },
  "language_info": {
   "codemirror_mode": {
    "name": "ipython",
    "version": 3
   },
   "file_extension": ".py",
   "mimetype": "text/x-python",
   "name": "python",
   "nbconvert_exporter": "python",
   "pygments_lexer": "ipython3",
   "version": "3.6.7"
  }
 },
 "nbformat": 4,
 "nbformat_minor": 2
}
