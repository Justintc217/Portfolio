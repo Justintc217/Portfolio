{
 "cells": [
  {
   "cell_type": "code",
   "execution_count": 1,
   "metadata": {},
   "outputs": [],
   "source": [
    "##ticket number = 3815740"
   ]
  },
  {
   "cell_type": "code",
   "execution_count": 2,
   "metadata": {
    "scrolled": true
   },
   "outputs": [
    {
     "name": "stderr",
     "output_type": "stream",
     "text": [
      "Using TensorFlow backend.\n"
     ]
    }
   ],
   "source": [
    "%run SP_lib.ipynb\n",
    "%matplotlib notebook"
   ]
  },
  {
   "cell_type": "code",
   "execution_count": 3,
   "metadata": {},
   "outputs": [],
   "source": [
    "path = directory + \"minutes/\""
   ]
  },
  {
   "cell_type": "code",
   "execution_count": 7,
   "metadata": {},
   "outputs": [],
   "source": [
    "file_location = path + os.listdir(path)[5]"
   ]
  },
  {
   "cell_type": "code",
   "execution_count": 8,
   "metadata": {},
   "outputs": [],
   "source": [
    "data = pd.read_csv(file_location, index_col=0)"
   ]
  },
  {
   "cell_type": "code",
   "execution_count": 9,
   "metadata": {},
   "outputs": [],
   "source": [
    "scaler = MinMaxScaler(feature_range=(0,1))\n",
    "fraction_train = 0.9\n",
    "tt_split = int(fraction_train * len(data))\n",
    "\n",
    "scaler.fit(data[0:tt_split])\n",
    "inputs_raw = scaler.transform(data)\n",
    "\n",
    "target_stock = \"SPY\"\n",
    "location = data.columns.get_loc(target_stock + \"close\")\n",
    "targets_raw = inputs_raw[:,location]"
   ]
  },
  {
   "cell_type": "code",
   "execution_count": 10,
   "metadata": {},
   "outputs": [
    {
     "data": {
      "text/plain": [
       "((7800, 1500), (7800,))"
      ]
     },
     "execution_count": 10,
     "metadata": {},
     "output_type": "execute_result"
    }
   ],
   "source": [
    "inputs_raw.shape, targets_raw.shape"
   ]
  },
  {
   "cell_type": "code",
   "execution_count": 54,
   "metadata": {},
   "outputs": [],
   "source": [
    "def make_samples(sample_size = 30, forsee = 0, inputs_raw = inputs_raw, targets_raw = targets_raw):\n",
    "    inputs = np.array([inputs_raw[i-sample_size-forsee:i-forsee] for i in range(sample_size+forsee, len(targets_raw))])\n",
    "    targets = np.array([targets_raw[i] for i in range(sample_size+forsee, len(targets_raw))])\n",
    "    return inputs, targets"
   ]
  },
  {
   "cell_type": "code",
   "execution_count": 65,
   "metadata": {},
   "outputs": [],
   "source": [
    "inputs, targets = make_samples(inputs_raw = inputs_raw[:,3::5])"
   ]
  },
  {
   "cell_type": "code",
   "execution_count": 66,
   "metadata": {},
   "outputs": [
    {
     "data": {
      "text/plain": [
       "((7770, 30, 300), (7770,))"
      ]
     },
     "execution_count": 66,
     "metadata": {},
     "output_type": "execute_result"
    }
   ],
   "source": [
    "inputs.shape, targets.shape"
   ]
  },
  {
   "cell_type": "code",
   "execution_count": 48,
   "metadata": {},
   "outputs": [],
   "source": [
    "def setup_simpler(shape, reg_value = 0.01, drop = 0.5):\n",
    "    model = Sequential()\n",
    "    model.add(Conv1D(2**7,6, input_shape=shape[1:]))\n",
    "    model.add(Dropout(drop))\n",
    "    model.add(Conv1D(2**6,3))\n",
    "    model.add(Dropout(drop))\n",
    "    model.add(Conv1D(2**5,2))\n",
    "    model.add(Flatten())\n",
    "    model.add(BatchNormalization())\n",
    "    model.add(Dense(32, activation=\"elu\"))\n",
    "    model.add(Dropout(drop))\n",
    "    model.add(Dense(2, activation=\"softmax\"))\n",
    "    model.compile(optimizer = \"adam\", loss=\"binary_crossentropy\" , metrics=[\"accuracy\"])\n",
    "    return model"
   ]
  },
  {
   "cell_type": "code",
   "execution_count": 121,
   "metadata": {},
   "outputs": [],
   "source": [
    "titan = setup_simpler(input_data.shape)"
   ]
  },
  {
   "cell_type": "code",
   "execution_count": 67,
   "metadata": {},
   "outputs": [],
   "source": [
    "bs_targets = bs_cat(targets)"
   ]
  },
  {
   "cell_type": "code",
   "execution_count": 68,
   "metadata": {},
   "outputs": [],
   "source": [
    "titan = alstm_fcn_block(input_shape=inputs.shape[1:], summary=False, regression=False)\n",
    "titan.compile(optimizer = \"adam\", loss=\"binary_crossentropy\", metrics=[\"accuracy\"])"
   ]
  },
  {
   "cell_type": "code",
   "execution_count": 69,
   "metadata": {
    "scrolled": true
   },
   "outputs": [
    {
     "name": "stdout",
     "output_type": "stream",
     "text": [
      "Train on 6993 samples, validate on 777 samples\n",
      "Epoch 1/200\n",
      "6993/6993 [==============================] - 123s 18ms/step - loss: 0.7083 - acc: 0.5032 - val_loss: 0.6927 - val_acc: 0.5122\n",
      "Epoch 2/200\n",
      "6993/6993 [==============================] - 118s 17ms/step - loss: 0.6939 - acc: 0.5122 - val_loss: 0.7105 - val_acc: 0.4878\n",
      "Epoch 3/200\n",
      "6993/6993 [==============================] - 119s 17ms/step - loss: 0.6948 - acc: 0.5114 - val_loss: 0.6941 - val_acc: 0.4878\n",
      "Epoch 4/200\n",
      "6993/6993 [==============================] - 118s 17ms/step - loss: 0.6938 - acc: 0.5194 - val_loss: 0.7022 - val_acc: 0.4878\n",
      "Epoch 5/200\n",
      "6993/6993 [==============================] - 117s 17ms/step - loss: 0.6944 - acc: 0.5164 - val_loss: 0.6930 - val_acc: 0.5122\n",
      "Epoch 6/200\n",
      "6993/6993 [==============================] - 118s 17ms/step - loss: 0.6933 - acc: 0.5247 - val_loss: 0.8297 - val_acc: 0.5122\n",
      "Epoch 7/200\n",
      "6993/6993 [==============================] - 118s 17ms/step - loss: 0.6937 - acc: 0.5188 - val_loss: 0.6951 - val_acc: 0.4878\n",
      "Epoch 8/200\n",
      "6993/6993 [==============================] - 118s 17ms/step - loss: 0.6941 - acc: 0.5192 - val_loss: 0.6938 - val_acc: 0.5122\n",
      "Epoch 9/200\n",
      "6993/6993 [==============================] - 118s 17ms/step - loss: 0.6925 - acc: 0.5261 - val_loss: 0.6925 - val_acc: 0.5122\n",
      "Epoch 10/200\n",
      "6993/6993 [==============================] - 118s 17ms/step - loss: 0.6934 - acc: 0.5177 - val_loss: 0.7121 - val_acc: 0.5122\n",
      "Epoch 11/200\n",
      "6993/6993 [==============================] - 119s 17ms/step - loss: 0.6934 - acc: 0.5188 - val_loss: 0.7575 - val_acc: 0.5122\n",
      "Epoch 12/200\n",
      "6993/6993 [==============================] - 117s 17ms/step - loss: 0.6926 - acc: 0.5237 - val_loss: 0.7159 - val_acc: 0.5122\n",
      "Epoch 13/200\n",
      "6993/6993 [==============================] - 118s 17ms/step - loss: 0.6920 - acc: 0.5301 - val_loss: 0.6925 - val_acc: 0.5122\n",
      "Epoch 14/200\n",
      "6993/6993 [==============================] - 119s 17ms/step - loss: 0.6926 - acc: 0.5218 - val_loss: 0.8106 - val_acc: 0.5122\n",
      "Epoch 15/200\n",
      "6993/6993 [==============================] - 118s 17ms/step - loss: 0.6909 - acc: 0.5301 - val_loss: 0.7049 - val_acc: 0.4878\n",
      "Epoch 16/200\n",
      "6993/6993 [==============================] - 119s 17ms/step - loss: 0.6918 - acc: 0.5241 - val_loss: 0.6963 - val_acc: 0.4878\n",
      "Epoch 17/200\n",
      "6993/6993 [==============================] - 118s 17ms/step - loss: 0.6934 - acc: 0.5207 - val_loss: 0.7113 - val_acc: 0.4878\n",
      "Epoch 18/200\n",
      "6993/6993 [==============================] - 118s 17ms/step - loss: 0.6932 - acc: 0.5221 - val_loss: 0.7197 - val_acc: 0.5122\n",
      "Epoch 19/200\n",
      "6993/6993 [==============================] - 119s 17ms/step - loss: 0.6910 - acc: 0.5290 - val_loss: 0.7062 - val_acc: 0.4878\n",
      "Epoch 20/200\n",
      "6993/6993 [==============================] - 118s 17ms/step - loss: 0.6917 - acc: 0.5258 - val_loss: 0.7091 - val_acc: 0.5122\n",
      "Epoch 21/200\n",
      "6993/6993 [==============================] - 118s 17ms/step - loss: 0.6916 - acc: 0.5207 - val_loss: 0.7184 - val_acc: 0.5122\n",
      "Epoch 22/200\n",
      "6993/6993 [==============================] - 118s 17ms/step - loss: 0.6912 - acc: 0.5318 - val_loss: 0.6925 - val_acc: 0.5122\n",
      "Epoch 23/200\n",
      "6993/6993 [==============================] - 118s 17ms/step - loss: 0.6921 - acc: 0.5202 - val_loss: 0.7034 - val_acc: 0.5122\n",
      "Epoch 24/200\n",
      "6993/6993 [==============================] - 119s 17ms/step - loss: 0.6909 - acc: 0.5311 - val_loss: 0.7122 - val_acc: 0.4878\n",
      "Epoch 25/200\n",
      "6993/6993 [==============================] - 118s 17ms/step - loss: 0.6924 - acc: 0.5162 - val_loss: 0.6957 - val_acc: 0.4878\n",
      "Epoch 26/200\n",
      "6993/6993 [==============================] - 118s 17ms/step - loss: 0.6925 - acc: 0.5267 - val_loss: 0.7038 - val_acc: 0.5122\n",
      "Epoch 27/200\n",
      "6993/6993 [==============================] - 118s 17ms/step - loss: 0.6905 - acc: 0.5268 - val_loss: 0.6961 - val_acc: 0.5122\n",
      "Epoch 28/200\n",
      "6993/6993 [==============================] - 118s 17ms/step - loss: 0.6914 - acc: 0.5211 - val_loss: 0.6927 - val_acc: 0.5122\n",
      "Epoch 29/200\n",
      "6993/6993 [==============================] - 118s 17ms/step - loss: 0.6919 - acc: 0.5290 - val_loss: 0.7029 - val_acc: 0.5122\n",
      "Epoch 30/200\n",
      "6993/6993 [==============================] - 119s 17ms/step - loss: 0.6912 - acc: 0.5292 - val_loss: 0.7031 - val_acc: 0.4878\n",
      "Epoch 31/200\n",
      "6993/6993 [==============================] - 118s 17ms/step - loss: 0.6902 - acc: 0.5357 - val_loss: 0.6935 - val_acc: 0.5135\n",
      "Epoch 32/200\n",
      "6993/6993 [==============================] - 118s 17ms/step - loss: 0.6902 - acc: 0.5354 - val_loss: 0.7158 - val_acc: 0.5122\n",
      "Epoch 33/200\n",
      "6993/6993 [==============================] - 118s 17ms/step - loss: 0.6918 - acc: 0.5248 - val_loss: 0.7012 - val_acc: 0.5122\n",
      "Epoch 34/200\n",
      "6993/6993 [==============================] - 118s 17ms/step - loss: 0.6902 - acc: 0.5341 - val_loss: 0.6923 - val_acc: 0.5341\n",
      "Epoch 35/200\n",
      "6993/6993 [==============================] - 121s 17ms/step - loss: 0.6905 - acc: 0.5328 - val_loss: 0.6935 - val_acc: 0.5122\n",
      "Epoch 36/200\n",
      "6993/6993 [==============================] - 118s 17ms/step - loss: 0.6904 - acc: 0.5278 - val_loss: 0.6947 - val_acc: 0.4878\n",
      "Epoch 37/200\n",
      "6993/6993 [==============================] - 119s 17ms/step - loss: 0.6900 - acc: 0.5344 - val_loss: 0.7365 - val_acc: 0.5122\n",
      "Epoch 38/200\n",
      "6993/6993 [==============================] - 118s 17ms/step - loss: 0.6909 - acc: 0.5294 - val_loss: 0.7113 - val_acc: 0.4878\n",
      "Epoch 39/200\n",
      "6993/6993 [==============================] - 118s 17ms/step - loss: 0.6904 - acc: 0.5257 - val_loss: 0.7015 - val_acc: 0.5122\n",
      "Epoch 40/200\n",
      "6993/6993 [==============================] - 119s 17ms/step - loss: 0.6897 - acc: 0.5344 - val_loss: 0.7411 - val_acc: 0.5122\n",
      "Epoch 41/200\n",
      "6993/6993 [==============================] - 118s 17ms/step - loss: 0.6904 - acc: 0.5291 - val_loss: 0.6924 - val_acc: 0.5367\n",
      "Epoch 42/200\n",
      "6993/6993 [==============================] - 118s 17ms/step - loss: 0.6904 - acc: 0.5204 - val_loss: 0.7143 - val_acc: 0.5122\n",
      "Epoch 43/200\n",
      "6993/6993 [==============================] - 118s 17ms/step - loss: 0.6899 - acc: 0.5307 - val_loss: 0.6922 - val_acc: 0.5264\n",
      "Epoch 44/200\n",
      "6993/6993 [==============================] - 118s 17ms/step - loss: 0.6892 - acc: 0.5337 - val_loss: 0.6947 - val_acc: 0.4878\n",
      "Epoch 45/200\n",
      "6993/6993 [==============================] - 120s 17ms/step - loss: 0.6889 - acc: 0.5358 - val_loss: 0.7044 - val_acc: 0.5122\n",
      "Epoch 46/200\n",
      "6993/6993 [==============================] - 118s 17ms/step - loss: 0.6894 - acc: 0.5265 - val_loss: 0.7108 - val_acc: 0.4878\n",
      "Epoch 47/200\n",
      "6993/6993 [==============================] - 117s 17ms/step - loss: 0.6889 - acc: 0.5404 - val_loss: 0.7010 - val_acc: 0.4878\n",
      "Epoch 48/200\n",
      "6993/6993 [==============================] - 118s 17ms/step - loss: 0.6891 - acc: 0.5345 - val_loss: 0.7274 - val_acc: 0.4878\n",
      "Epoch 49/200\n",
      "6993/6993 [==============================] - 118s 17ms/step - loss: 0.6893 - acc: 0.5348 - val_loss: 0.7426 - val_acc: 0.5122\n",
      "Epoch 50/200\n",
      "6993/6993 [==============================] - 118s 17ms/step - loss: 0.6886 - acc: 0.5430 - val_loss: 0.6957 - val_acc: 0.4878\n",
      "Epoch 51/200\n",
      "6993/6993 [==============================] - 118s 17ms/step - loss: 0.6887 - acc: 0.5383 - val_loss: 0.6917 - val_acc: 0.5290\n",
      "Epoch 52/200\n",
      "6993/6993 [==============================] - 118s 17ms/step - loss: 0.6882 - acc: 0.5390 - val_loss: 0.7019 - val_acc: 0.5122\n",
      "Epoch 53/200\n",
      "6993/6993 [==============================] - 119s 17ms/step - loss: 0.6884 - acc: 0.5347 - val_loss: 0.7255 - val_acc: 0.5122\n",
      "Epoch 54/200\n",
      "6993/6993 [==============================] - 118s 17ms/step - loss: 0.6881 - acc: 0.5383 - val_loss: 0.6939 - val_acc: 0.5084\n",
      "Epoch 55/200\n",
      "6993/6993 [==============================] - 118s 17ms/step - loss: 0.6884 - acc: 0.5348 - val_loss: 0.7078 - val_acc: 0.4878\n",
      "Epoch 56/200\n",
      "6993/6993 [==============================] - 118s 17ms/step - loss: 0.6879 - acc: 0.5428 - val_loss: 0.6923 - val_acc: 0.5302\n",
      "Epoch 57/200\n",
      "6993/6993 [==============================] - 118s 17ms/step - loss: 0.6886 - acc: 0.5395 - val_loss: 0.6948 - val_acc: 0.4839\n",
      "Epoch 58/200\n",
      "6993/6993 [==============================] - 118s 17ms/step - loss: 0.6883 - acc: 0.5393 - val_loss: 0.6924 - val_acc: 0.5302\n",
      "Epoch 59/200\n"
     ]
    },
    {
     "name": "stdout",
     "output_type": "stream",
     "text": [
      "6993/6993 [==============================] - 117s 17ms/step - loss: 0.6881 - acc: 0.5367 - val_loss: 0.6930 - val_acc: 0.5264\n",
      "Epoch 60/200\n",
      "6993/6993 [==============================] - 118s 17ms/step - loss: 0.6881 - acc: 0.5401 - val_loss: 0.6985 - val_acc: 0.5135\n",
      "Epoch 61/200\n",
      "6993/6993 [==============================] - 121s 17ms/step - loss: 0.6883 - acc: 0.5387 - val_loss: 0.6948 - val_acc: 0.5148\n",
      "Epoch 62/200\n",
      "6993/6993 [==============================] - 117s 17ms/step - loss: 0.6881 - acc: 0.5383 - val_loss: 0.6934 - val_acc: 0.4942\n",
      "Epoch 63/200\n",
      "6993/6993 [==============================] - 118s 17ms/step - loss: 0.6878 - acc: 0.5444 - val_loss: 0.7021 - val_acc: 0.5097\n",
      "Epoch 64/200\n",
      "6993/6993 [==============================] - 119s 17ms/step - loss: 0.6869 - acc: 0.5413 - val_loss: 0.7950 - val_acc: 0.5122\n",
      "Epoch 65/200\n",
      "6993/6993 [==============================] - 118s 17ms/step - loss: 0.6873 - acc: 0.5423 - val_loss: 0.7268 - val_acc: 0.5122\n",
      "Epoch 66/200\n",
      "6993/6993 [==============================] - 119s 17ms/step - loss: 0.6869 - acc: 0.5506 - val_loss: 0.6953 - val_acc: 0.4955\n",
      "Epoch 67/200\n",
      "6993/6993 [==============================] - 124s 18ms/step - loss: 0.6879 - acc: 0.5433 - val_loss: 0.6952 - val_acc: 0.4813\n",
      "Epoch 68/200\n",
      "6993/6993 [==============================] - 120s 17ms/step - loss: 0.6859 - acc: 0.5474 - val_loss: 0.7487 - val_acc: 0.5122\n",
      "Epoch 69/200\n",
      "6993/6993 [==============================] - 118s 17ms/step - loss: 0.6867 - acc: 0.5511 - val_loss: 0.6986 - val_acc: 0.5161\n",
      "Epoch 70/200\n",
      "6993/6993 [==============================] - 118s 17ms/step - loss: 0.6868 - acc: 0.5430 - val_loss: 0.6926 - val_acc: 0.5444\n",
      "Epoch 71/200\n",
      "6993/6993 [==============================] - 119s 17ms/step - loss: 0.6870 - acc: 0.5425 - val_loss: 0.6957 - val_acc: 0.5264\n",
      "Epoch 72/200\n",
      "6993/6993 [==============================] - 118s 17ms/step - loss: 0.6861 - acc: 0.5435 - val_loss: 0.7042 - val_acc: 0.4878\n",
      "Epoch 73/200\n",
      "6993/6993 [==============================] - 117s 17ms/step - loss: 0.6875 - acc: 0.5441 - val_loss: 0.6937 - val_acc: 0.5212\n",
      "Epoch 74/200\n",
      "6993/6993 [==============================] - 118s 17ms/step - loss: 0.6865 - acc: 0.5465 - val_loss: 0.6943 - val_acc: 0.5212\n",
      "Epoch 75/200\n",
      "6993/6993 [==============================] - 117s 17ms/step - loss: 0.6869 - acc: 0.5448 - val_loss: 0.6996 - val_acc: 0.5122\n",
      "Epoch 76/200\n",
      "6993/6993 [==============================] - 118s 17ms/step - loss: 0.6851 - acc: 0.5517 - val_loss: 0.7843 - val_acc: 0.4878\n",
      "Epoch 77/200\n",
      "6993/6993 [==============================] - 118s 17ms/step - loss: 0.6858 - acc: 0.5465 - val_loss: 0.6936 - val_acc: 0.4878\n",
      "Epoch 78/200\n",
      "6993/6993 [==============================] - 117s 17ms/step - loss: 0.6863 - acc: 0.5468 - val_loss: 0.7054 - val_acc: 0.5122\n",
      "Epoch 79/200\n",
      "6993/6993 [==============================] - 118s 17ms/step - loss: 0.6862 - acc: 0.5455 - val_loss: 0.7104 - val_acc: 0.5187\n",
      "Epoch 80/200\n",
      "6993/6993 [==============================] - 117s 17ms/step - loss: 0.6859 - acc: 0.5467 - val_loss: 0.6947 - val_acc: 0.5199\n",
      "Epoch 81/200\n",
      "6993/6993 [==============================] - 117s 17ms/step - loss: 0.6860 - acc: 0.5453 - val_loss: 0.8398 - val_acc: 0.4878\n",
      "Epoch 82/200\n",
      "6993/6993 [==============================] - 118s 17ms/step - loss: 0.6852 - acc: 0.5473 - val_loss: 0.7005 - val_acc: 0.5174\n",
      "Epoch 83/200\n",
      "6993/6993 [==============================] - 117s 17ms/step - loss: 0.6868 - acc: 0.5453 - val_loss: 0.7494 - val_acc: 0.5122\n",
      "Epoch 84/200\n",
      "6993/6993 [==============================] - 118s 17ms/step - loss: 0.6862 - acc: 0.5393 - val_loss: 0.6937 - val_acc: 0.5457\n",
      "Epoch 85/200\n",
      "6993/6993 [==============================] - 118s 17ms/step - loss: 0.6856 - acc: 0.5475 - val_loss: 0.6961 - val_acc: 0.5290\n",
      "Epoch 86/200\n",
      "6993/6993 [==============================] - 117s 17ms/step - loss: 0.6872 - acc: 0.5513 - val_loss: 0.7442 - val_acc: 0.5122\n",
      "Epoch 87/200\n",
      "6993/6993 [==============================] - 118s 17ms/step - loss: 0.6848 - acc: 0.5460 - val_loss: 0.7475 - val_acc: 0.4878\n",
      "Epoch 88/200\n",
      "6993/6993 [==============================] - 117s 17ms/step - loss: 0.6851 - acc: 0.5483 - val_loss: 0.7094 - val_acc: 0.5135\n",
      "Epoch 89/200\n",
      "6993/6993 [==============================] - 117s 17ms/step - loss: 0.6852 - acc: 0.5518 - val_loss: 0.7106 - val_acc: 0.5135\n",
      "Epoch 90/200\n",
      "6993/6993 [==============================] - 119s 17ms/step - loss: 0.6854 - acc: 0.5494 - val_loss: 0.6950 - val_acc: 0.4981\n",
      "Epoch 91/200\n",
      "6993/6993 [==============================] - 118s 17ms/step - loss: 0.6849 - acc: 0.5485 - val_loss: 0.6948 - val_acc: 0.5315\n",
      "Epoch 92/200\n",
      "6993/6993 [==============================] - 118s 17ms/step - loss: 0.6845 - acc: 0.5487 - val_loss: 0.7620 - val_acc: 0.4878\n",
      "Epoch 93/200\n",
      "6993/6993 [==============================] - 118s 17ms/step - loss: 0.6841 - acc: 0.5467 - val_loss: 0.7052 - val_acc: 0.5161\n",
      "Epoch 94/200\n",
      "6993/6993 [==============================] - 117s 17ms/step - loss: 0.6839 - acc: 0.5506 - val_loss: 0.6999 - val_acc: 0.4775\n",
      "Epoch 95/200\n",
      "6993/6993 [==============================] - 118s 17ms/step - loss: 0.6839 - acc: 0.5488 - val_loss: 0.7013 - val_acc: 0.4865\n",
      "Epoch 96/200\n",
      "6993/6993 [==============================] - 117s 17ms/step - loss: 0.6837 - acc: 0.5554 - val_loss: 0.7357 - val_acc: 0.5161\n",
      "Epoch 97/200\n",
      "6993/6993 [==============================] - 117s 17ms/step - loss: 0.6836 - acc: 0.5553 - val_loss: 0.7036 - val_acc: 0.5148\n",
      "Epoch 98/200\n",
      "6993/6993 [==============================] - 118s 17ms/step - loss: 0.6822 - acc: 0.5551 - val_loss: 0.7638 - val_acc: 0.4878\n",
      "Epoch 99/200\n",
      "6993/6993 [==============================] - 117s 17ms/step - loss: 0.6839 - acc: 0.5437 - val_loss: 0.7010 - val_acc: 0.5225\n",
      "Epoch 100/200\n",
      "6993/6993 [==============================] - 118s 17ms/step - loss: 0.6833 - acc: 0.5587 - val_loss: 0.7062 - val_acc: 0.5135\n",
      "Epoch 101/200\n",
      "6993/6993 [==============================] - 117s 17ms/step - loss: 0.6824 - acc: 0.5613 - val_loss: 0.7092 - val_acc: 0.5135\n",
      "Epoch 102/200\n",
      "6993/6993 [==============================] - 117s 17ms/step - loss: 0.6821 - acc: 0.5576 - val_loss: 0.7053 - val_acc: 0.5238\n",
      "Epoch 103/200\n",
      "6993/6993 [==============================] - 118s 17ms/step - loss: 0.6838 - acc: 0.5495 - val_loss: 0.7706 - val_acc: 0.4878\n",
      "Epoch 104/200\n",
      "6993/6993 [==============================] - 117s 17ms/step - loss: 0.6826 - acc: 0.5590 - val_loss: 0.8175 - val_acc: 0.5135\n",
      "Epoch 105/200\n",
      "6993/6993 [==============================] - 117s 17ms/step - loss: 0.6827 - acc: 0.5526 - val_loss: 0.8232 - val_acc: 0.5122\n",
      "Epoch 106/200\n",
      "6993/6993 [==============================] - 119s 17ms/step - loss: 0.6823 - acc: 0.5557 - val_loss: 0.6945 - val_acc: 0.4878\n",
      "Epoch 107/200\n",
      "6993/6993 [==============================] - 117s 17ms/step - loss: 0.6817 - acc: 0.5557 - val_loss: 0.7426 - val_acc: 0.5097\n",
      "Epoch 108/200\n",
      "6993/6993 [==============================] - 118s 17ms/step - loss: 0.6808 - acc: 0.5597 - val_loss: 0.7338 - val_acc: 0.4942\n",
      "Epoch 109/200\n",
      "6993/6993 [==============================] - 117s 17ms/step - loss: 0.6819 - acc: 0.5553 - val_loss: 0.7010 - val_acc: 0.5174\n",
      "Epoch 110/200\n",
      "6993/6993 [==============================] - 118s 17ms/step - loss: 0.6826 - acc: 0.5561 - val_loss: 0.7075 - val_acc: 0.4865\n",
      "Epoch 111/200\n",
      "6993/6993 [==============================] - 118s 17ms/step - loss: 0.6802 - acc: 0.5590 - val_loss: 0.7130 - val_acc: 0.4878\n",
      "Epoch 112/200\n",
      "6993/6993 [==============================] - 117s 17ms/step - loss: 0.6808 - acc: 0.5558 - val_loss: 0.7046 - val_acc: 0.4852\n",
      "Epoch 113/200\n",
      "6993/6993 [==============================] - 117s 17ms/step - loss: 0.6808 - acc: 0.5637 - val_loss: 0.6984 - val_acc: 0.5058\n",
      "Epoch 114/200\n",
      "6993/6993 [==============================] - 118s 17ms/step - loss: 0.6801 - acc: 0.5563 - val_loss: 0.7244 - val_acc: 0.4891\n",
      "Epoch 115/200\n",
      "6993/6993 [==============================] - 117s 17ms/step - loss: 0.6800 - acc: 0.5634 - val_loss: 0.7300 - val_acc: 0.5122\n",
      "Epoch 116/200\n",
      "6993/6993 [==============================] - 118s 17ms/step - loss: 0.6802 - acc: 0.5594 - val_loss: 0.7437 - val_acc: 0.5135\n",
      "Epoch 117/200\n",
      "6993/6993 [==============================] - 118s 17ms/step - loss: 0.6808 - acc: 0.5580 - val_loss: 0.7388 - val_acc: 0.4891\n"
     ]
    },
    {
     "name": "stdout",
     "output_type": "stream",
     "text": [
      "Epoch 118/200\n",
      "6993/6993 [==============================] - 118s 17ms/step - loss: 0.6805 - acc: 0.5626 - val_loss: 0.6999 - val_acc: 0.5199\n",
      "Epoch 119/200\n",
      "6993/6993 [==============================] - 118s 17ms/step - loss: 0.6798 - acc: 0.5604 - val_loss: 0.7015 - val_acc: 0.4916\n",
      "Epoch 120/200\n",
      "6993/6993 [==============================] - 117s 17ms/step - loss: 0.6783 - acc: 0.5647 - val_loss: 0.7055 - val_acc: 0.5199\n",
      "Epoch 121/200\n",
      "6993/6993 [==============================] - 117s 17ms/step - loss: 0.6772 - acc: 0.5660 - val_loss: 0.6956 - val_acc: 0.5109\n",
      "Epoch 122/200\n",
      "6993/6993 [==============================] - 118s 17ms/step - loss: 0.6795 - acc: 0.5607 - val_loss: 0.7505 - val_acc: 0.5161\n",
      "Epoch 123/200\n",
      "6993/6993 [==============================] - 117s 17ms/step - loss: 0.6779 - acc: 0.5649 - val_loss: 0.8490 - val_acc: 0.4878\n",
      "Epoch 124/200\n",
      "6993/6993 [==============================] - 118s 17ms/step - loss: 0.6783 - acc: 0.5624 - val_loss: 0.7249 - val_acc: 0.5225\n",
      "Epoch 125/200\n",
      "6993/6993 [==============================] - 117s 17ms/step - loss: 0.6782 - acc: 0.5616 - val_loss: 0.7173 - val_acc: 0.5109\n",
      "Epoch 126/200\n",
      "6993/6993 [==============================] - 119s 17ms/step - loss: 0.6778 - acc: 0.5684 - val_loss: 0.7063 - val_acc: 0.5302\n",
      "Epoch 127/200\n",
      "6993/6993 [==============================] - 119s 17ms/step - loss: 0.6768 - acc: 0.5673 - val_loss: 0.7223 - val_acc: 0.5122\n",
      "Epoch 128/200\n",
      "6993/6993 [==============================] - 117s 17ms/step - loss: 0.6771 - acc: 0.5630 - val_loss: 0.7603 - val_acc: 0.5148\n",
      "Epoch 129/200\n",
      "6993/6993 [==============================] - 118s 17ms/step - loss: 0.6763 - acc: 0.5681 - val_loss: 0.7485 - val_acc: 0.5161\n",
      "Epoch 130/200\n",
      "6993/6993 [==============================] - 120s 17ms/step - loss: 0.6757 - acc: 0.5721 - val_loss: 0.7038 - val_acc: 0.4981\n",
      "Epoch 131/200\n",
      "6993/6993 [==============================] - 118s 17ms/step - loss: 0.6754 - acc: 0.5743 - val_loss: 0.7402 - val_acc: 0.5161\n",
      "Epoch 132/200\n",
      "6993/6993 [==============================] - 119s 17ms/step - loss: 0.6758 - acc: 0.5731 - val_loss: 0.7222 - val_acc: 0.4891\n",
      "Epoch 133/200\n",
      "6993/6993 [==============================] - 118s 17ms/step - loss: 0.6752 - acc: 0.5700 - val_loss: 0.7353 - val_acc: 0.5302\n",
      "Epoch 134/200\n",
      "6993/6993 [==============================] - 118s 17ms/step - loss: 0.6758 - acc: 0.5673 - val_loss: 0.7404 - val_acc: 0.5097\n",
      "Epoch 135/200\n",
      "6993/6993 [==============================] - 119s 17ms/step - loss: 0.6755 - acc: 0.5697 - val_loss: 0.9168 - val_acc: 0.5097\n",
      "Epoch 136/200\n",
      "6993/6993 [==============================] - 118s 17ms/step - loss: 0.6739 - acc: 0.5706 - val_loss: 0.7860 - val_acc: 0.5109\n",
      "Epoch 137/200\n",
      "6993/6993 [==============================] - 120s 17ms/step - loss: 0.6750 - acc: 0.5679 - val_loss: 0.7983 - val_acc: 0.4865\n",
      "Epoch 138/200\n",
      "6993/6993 [==============================] - 118s 17ms/step - loss: 0.6730 - acc: 0.5744 - val_loss: 0.7029 - val_acc: 0.5109\n",
      "Epoch 139/200\n",
      "6993/6993 [==============================] - 118s 17ms/step - loss: 0.6736 - acc: 0.5773 - val_loss: 0.8325 - val_acc: 0.5135\n",
      "Epoch 140/200\n",
      "6993/6993 [==============================] - 119s 17ms/step - loss: 0.6729 - acc: 0.5711 - val_loss: 0.7233 - val_acc: 0.5174\n",
      "Epoch 141/200\n",
      "6993/6993 [==============================] - 119s 17ms/step - loss: 0.6726 - acc: 0.5753 - val_loss: 0.7067 - val_acc: 0.4788\n",
      "Epoch 142/200\n",
      "6993/6993 [==============================] - 116s 17ms/step - loss: 0.6732 - acc: 0.5733 - val_loss: 0.7925 - val_acc: 0.5109\n",
      "Epoch 143/200\n",
      "6993/6993 [==============================] - 113s 16ms/step - loss: 0.6728 - acc: 0.5726 - val_loss: 0.7546 - val_acc: 0.4891\n",
      "Epoch 144/200\n",
      "6993/6993 [==============================] - 113s 16ms/step - loss: 0.6716 - acc: 0.5781 - val_loss: 0.7265 - val_acc: 0.4878\n",
      "Epoch 145/200\n",
      "6993/6993 [==============================] - 114s 16ms/step - loss: 0.6728 - acc: 0.5734 - val_loss: 0.7429 - val_acc: 0.4878\n",
      "Epoch 146/200\n",
      "6993/6993 [==============================] - 117s 17ms/step - loss: 0.6730 - acc: 0.5759 - val_loss: 0.7423 - val_acc: 0.5071\n",
      "Epoch 147/200\n",
      "6993/6993 [==============================] - 118s 17ms/step - loss: 0.6724 - acc: 0.5751 - val_loss: 0.7961 - val_acc: 0.5148\n",
      "Epoch 148/200\n",
      "6993/6993 [==============================] - 119s 17ms/step - loss: 0.6731 - acc: 0.5683 - val_loss: 0.7413 - val_acc: 0.4852\n",
      "Epoch 149/200\n",
      "6993/6993 [==============================] - 118s 17ms/step - loss: 0.6701 - acc: 0.5819 - val_loss: 0.7325 - val_acc: 0.4865\n",
      "Epoch 150/200\n",
      "6993/6993 [==============================] - 118s 17ms/step - loss: 0.6697 - acc: 0.5776 - val_loss: 0.7146 - val_acc: 0.5187\n",
      "Epoch 151/200\n",
      "6993/6993 [==============================] - 119s 17ms/step - loss: 0.6718 - acc: 0.5796 - val_loss: 0.7313 - val_acc: 0.4955\n",
      "Epoch 152/200\n",
      "6993/6993 [==============================] - 118s 17ms/step - loss: 0.6698 - acc: 0.5840 - val_loss: 0.7299 - val_acc: 0.4903\n",
      "Epoch 153/200\n",
      "6993/6993 [==============================] - 119s 17ms/step - loss: 0.6699 - acc: 0.5880 - val_loss: 0.7100 - val_acc: 0.4968\n",
      "Epoch 154/200\n",
      "6993/6993 [==============================] - 118s 17ms/step - loss: 0.6698 - acc: 0.5819 - val_loss: 0.7423 - val_acc: 0.4929\n",
      "Epoch 155/200\n",
      "6993/6993 [==============================] - 119s 17ms/step - loss: 0.6695 - acc: 0.5824 - val_loss: 0.7118 - val_acc: 0.5058\n",
      "Epoch 156/200\n",
      "6993/6993 [==============================] - 117s 17ms/step - loss: 0.6678 - acc: 0.5893 - val_loss: 0.7163 - val_acc: 0.4865\n",
      "Epoch 157/200\n",
      "6993/6993 [==============================] - 114s 16ms/step - loss: 0.6675 - acc: 0.5912 - val_loss: 0.7507 - val_acc: 0.5122\n",
      "Epoch 158/200\n",
      "6993/6993 [==============================] - 114s 16ms/step - loss: 0.6676 - acc: 0.5890 - val_loss: 0.7308 - val_acc: 0.5187\n",
      "Epoch 159/200\n",
      "6993/6993 [==============================] - 114s 16ms/step - loss: 0.6687 - acc: 0.5814 - val_loss: 0.7960 - val_acc: 0.4865\n",
      "Epoch 160/200\n",
      "6993/6993 [==============================] - 113s 16ms/step - loss: 0.6695 - acc: 0.5877 - val_loss: 0.8019 - val_acc: 0.4852\n",
      "Epoch 161/200\n",
      "6993/6993 [==============================] - 114s 16ms/step - loss: 0.6674 - acc: 0.5817 - val_loss: 0.7804 - val_acc: 0.4801\n",
      "Epoch 162/200\n",
      "6993/6993 [==============================] - 118s 17ms/step - loss: 0.6682 - acc: 0.5832 - val_loss: 0.7120 - val_acc: 0.5251\n",
      "Epoch 163/200\n",
      "6993/6993 [==============================] - 118s 17ms/step - loss: 0.6644 - acc: 0.5967 - val_loss: 0.7972 - val_acc: 0.5122\n",
      "Epoch 164/200\n",
      "6993/6993 [==============================] - 118s 17ms/step - loss: 0.6664 - acc: 0.5882 - val_loss: 0.7287 - val_acc: 0.5225\n",
      "Epoch 165/200\n",
      "6993/6993 [==============================] - 118s 17ms/step - loss: 0.6648 - acc: 0.5913 - val_loss: 0.7147 - val_acc: 0.5187\n",
      "Epoch 166/200\n",
      "6993/6993 [==============================] - 119s 17ms/step - loss: 0.6648 - acc: 0.5929 - val_loss: 0.7379 - val_acc: 0.5045\n",
      "Epoch 167/200\n",
      "6993/6993 [==============================] - 118s 17ms/step - loss: 0.6664 - acc: 0.5879 - val_loss: 0.7186 - val_acc: 0.5148\n",
      "Epoch 168/200\n",
      "6993/6993 [==============================] - 121s 17ms/step - loss: 0.6644 - acc: 0.5899 - val_loss: 0.8006 - val_acc: 0.4878\n",
      "Epoch 169/200\n",
      "6993/6993 [==============================] - 118s 17ms/step - loss: 0.6634 - acc: 0.5900 - val_loss: 0.7236 - val_acc: 0.5006\n",
      "Epoch 170/200\n",
      "6993/6993 [==============================] - 118s 17ms/step - loss: 0.6634 - acc: 0.5982 - val_loss: 0.7641 - val_acc: 0.4891\n",
      "Epoch 171/200\n",
      "1824/6993 [======>.......................] - ETA: 1:28 - loss: 0.6661 - acc: 0.5872"
     ]
    },
    {
     "ename": "KeyboardInterrupt",
     "evalue": "",
     "output_type": "error",
     "traceback": [
      "\u001b[1;31m---------------------------------------------------------------------------\u001b[0m",
      "\u001b[1;31mKeyboardInterrupt\u001b[0m                         Traceback (most recent call last)",
      "\u001b[1;32m<ipython-input-69-c669ceab4ecf>\u001b[0m in \u001b[0;36m<module>\u001b[1;34m\u001b[0m\n\u001b[1;32m----> 1\u001b[1;33m \u001b[0mhistory\u001b[0m \u001b[1;33m=\u001b[0m \u001b[0mtitan\u001b[0m\u001b[1;33m.\u001b[0m\u001b[0mfit\u001b[0m\u001b[1;33m(\u001b[0m\u001b[0minputs\u001b[0m\u001b[1;33m,\u001b[0m \u001b[0mbs_targets\u001b[0m\u001b[1;33m,\u001b[0m \u001b[0mvalidation_split\u001b[0m\u001b[1;33m=\u001b[0m \u001b[1;36m1\u001b[0m\u001b[1;33m-\u001b[0m\u001b[0mfraction_train\u001b[0m\u001b[1;33m,\u001b[0m \u001b[0mepochs\u001b[0m\u001b[1;33m=\u001b[0m\u001b[1;36m200\u001b[0m\u001b[1;33m,\u001b[0m \u001b[0mverbose\u001b[0m \u001b[1;33m=\u001b[0m \u001b[1;36m1\u001b[0m\u001b[1;33m)\u001b[0m\u001b[1;33m\u001b[0m\u001b[1;33m\u001b[0m\u001b[0m\n\u001b[0m",
      "\u001b[1;32mD:\\RecuConda\\lib\\site-packages\\keras\\engine\\training.py\u001b[0m in \u001b[0;36mfit\u001b[1;34m(self, x, y, batch_size, epochs, verbose, callbacks, validation_split, validation_data, shuffle, class_weight, sample_weight, initial_epoch, steps_per_epoch, validation_steps, **kwargs)\u001b[0m\n\u001b[0;32m   1037\u001b[0m                                         \u001b[0minitial_epoch\u001b[0m\u001b[1;33m=\u001b[0m\u001b[0minitial_epoch\u001b[0m\u001b[1;33m,\u001b[0m\u001b[1;33m\u001b[0m\u001b[1;33m\u001b[0m\u001b[0m\n\u001b[0;32m   1038\u001b[0m                                         \u001b[0msteps_per_epoch\u001b[0m\u001b[1;33m=\u001b[0m\u001b[0msteps_per_epoch\u001b[0m\u001b[1;33m,\u001b[0m\u001b[1;33m\u001b[0m\u001b[1;33m\u001b[0m\u001b[0m\n\u001b[1;32m-> 1039\u001b[1;33m                                         validation_steps=validation_steps)\n\u001b[0m\u001b[0;32m   1040\u001b[0m \u001b[1;33m\u001b[0m\u001b[0m\n\u001b[0;32m   1041\u001b[0m     def evaluate(self, x=None, y=None,\n",
      "\u001b[1;32mD:\\RecuConda\\lib\\site-packages\\keras\\engine\\training_arrays.py\u001b[0m in \u001b[0;36mfit_loop\u001b[1;34m(model, f, ins, out_labels, batch_size, epochs, verbose, callbacks, val_f, val_ins, shuffle, callback_metrics, initial_epoch, steps_per_epoch, validation_steps)\u001b[0m\n\u001b[0;32m    197\u001b[0m                     \u001b[0mins_batch\u001b[0m\u001b[1;33m[\u001b[0m\u001b[0mi\u001b[0m\u001b[1;33m]\u001b[0m \u001b[1;33m=\u001b[0m \u001b[0mins_batch\u001b[0m\u001b[1;33m[\u001b[0m\u001b[0mi\u001b[0m\u001b[1;33m]\u001b[0m\u001b[1;33m.\u001b[0m\u001b[0mtoarray\u001b[0m\u001b[1;33m(\u001b[0m\u001b[1;33m)\u001b[0m\u001b[1;33m\u001b[0m\u001b[1;33m\u001b[0m\u001b[0m\n\u001b[0;32m    198\u001b[0m \u001b[1;33m\u001b[0m\u001b[0m\n\u001b[1;32m--> 199\u001b[1;33m                 \u001b[0mouts\u001b[0m \u001b[1;33m=\u001b[0m \u001b[0mf\u001b[0m\u001b[1;33m(\u001b[0m\u001b[0mins_batch\u001b[0m\u001b[1;33m)\u001b[0m\u001b[1;33m\u001b[0m\u001b[1;33m\u001b[0m\u001b[0m\n\u001b[0m\u001b[0;32m    200\u001b[0m                 \u001b[0mouts\u001b[0m \u001b[1;33m=\u001b[0m \u001b[0mto_list\u001b[0m\u001b[1;33m(\u001b[0m\u001b[0mouts\u001b[0m\u001b[1;33m)\u001b[0m\u001b[1;33m\u001b[0m\u001b[1;33m\u001b[0m\u001b[0m\n\u001b[0;32m    201\u001b[0m                 \u001b[1;32mfor\u001b[0m \u001b[0ml\u001b[0m\u001b[1;33m,\u001b[0m \u001b[0mo\u001b[0m \u001b[1;32min\u001b[0m \u001b[0mzip\u001b[0m\u001b[1;33m(\u001b[0m\u001b[0mout_labels\u001b[0m\u001b[1;33m,\u001b[0m \u001b[0mouts\u001b[0m\u001b[1;33m)\u001b[0m\u001b[1;33m:\u001b[0m\u001b[1;33m\u001b[0m\u001b[1;33m\u001b[0m\u001b[0m\n",
      "\u001b[1;32mD:\\RecuConda\\lib\\site-packages\\keras\\backend\\tensorflow_backend.py\u001b[0m in \u001b[0;36m__call__\u001b[1;34m(self, inputs)\u001b[0m\n\u001b[0;32m   2713\u001b[0m                 \u001b[1;32mreturn\u001b[0m \u001b[0mself\u001b[0m\u001b[1;33m.\u001b[0m\u001b[0m_legacy_call\u001b[0m\u001b[1;33m(\u001b[0m\u001b[0minputs\u001b[0m\u001b[1;33m)\u001b[0m\u001b[1;33m\u001b[0m\u001b[1;33m\u001b[0m\u001b[0m\n\u001b[0;32m   2714\u001b[0m \u001b[1;33m\u001b[0m\u001b[0m\n\u001b[1;32m-> 2715\u001b[1;33m             \u001b[1;32mreturn\u001b[0m \u001b[0mself\u001b[0m\u001b[1;33m.\u001b[0m\u001b[0m_call\u001b[0m\u001b[1;33m(\u001b[0m\u001b[0minputs\u001b[0m\u001b[1;33m)\u001b[0m\u001b[1;33m\u001b[0m\u001b[1;33m\u001b[0m\u001b[0m\n\u001b[0m\u001b[0;32m   2716\u001b[0m         \u001b[1;32melse\u001b[0m\u001b[1;33m:\u001b[0m\u001b[1;33m\u001b[0m\u001b[1;33m\u001b[0m\u001b[0m\n\u001b[0;32m   2717\u001b[0m             \u001b[1;32mif\u001b[0m \u001b[0mpy_any\u001b[0m\u001b[1;33m(\u001b[0m\u001b[0mis_tensor\u001b[0m\u001b[1;33m(\u001b[0m\u001b[0mx\u001b[0m\u001b[1;33m)\u001b[0m \u001b[1;32mfor\u001b[0m \u001b[0mx\u001b[0m \u001b[1;32min\u001b[0m \u001b[0minputs\u001b[0m\u001b[1;33m)\u001b[0m\u001b[1;33m:\u001b[0m\u001b[1;33m\u001b[0m\u001b[1;33m\u001b[0m\u001b[0m\n",
      "\u001b[1;32mD:\\RecuConda\\lib\\site-packages\\keras\\backend\\tensorflow_backend.py\u001b[0m in \u001b[0;36m_call\u001b[1;34m(self, inputs)\u001b[0m\n\u001b[0;32m   2673\u001b[0m             \u001b[0mfetched\u001b[0m \u001b[1;33m=\u001b[0m \u001b[0mself\u001b[0m\u001b[1;33m.\u001b[0m\u001b[0m_callable_fn\u001b[0m\u001b[1;33m(\u001b[0m\u001b[1;33m*\u001b[0m\u001b[0marray_vals\u001b[0m\u001b[1;33m,\u001b[0m \u001b[0mrun_metadata\u001b[0m\u001b[1;33m=\u001b[0m\u001b[0mself\u001b[0m\u001b[1;33m.\u001b[0m\u001b[0mrun_metadata\u001b[0m\u001b[1;33m)\u001b[0m\u001b[1;33m\u001b[0m\u001b[1;33m\u001b[0m\u001b[0m\n\u001b[0;32m   2674\u001b[0m         \u001b[1;32melse\u001b[0m\u001b[1;33m:\u001b[0m\u001b[1;33m\u001b[0m\u001b[1;33m\u001b[0m\u001b[0m\n\u001b[1;32m-> 2675\u001b[1;33m             \u001b[0mfetched\u001b[0m \u001b[1;33m=\u001b[0m \u001b[0mself\u001b[0m\u001b[1;33m.\u001b[0m\u001b[0m_callable_fn\u001b[0m\u001b[1;33m(\u001b[0m\u001b[1;33m*\u001b[0m\u001b[0marray_vals\u001b[0m\u001b[1;33m)\u001b[0m\u001b[1;33m\u001b[0m\u001b[1;33m\u001b[0m\u001b[0m\n\u001b[0m\u001b[0;32m   2676\u001b[0m         \u001b[1;32mreturn\u001b[0m \u001b[0mfetched\u001b[0m\u001b[1;33m[\u001b[0m\u001b[1;33m:\u001b[0m\u001b[0mlen\u001b[0m\u001b[1;33m(\u001b[0m\u001b[0mself\u001b[0m\u001b[1;33m.\u001b[0m\u001b[0moutputs\u001b[0m\u001b[1;33m)\u001b[0m\u001b[1;33m]\u001b[0m\u001b[1;33m\u001b[0m\u001b[1;33m\u001b[0m\u001b[0m\n\u001b[0;32m   2677\u001b[0m \u001b[1;33m\u001b[0m\u001b[0m\n",
      "\u001b[1;32mD:\\RecuConda\\lib\\site-packages\\tensorflow\\python\\client\\session.py\u001b[0m in \u001b[0;36m__call__\u001b[1;34m(self, *args, **kwargs)\u001b[0m\n\u001b[0;32m   1437\u001b[0m           ret = tf_session.TF_SessionRunCallable(\n\u001b[0;32m   1438\u001b[0m               \u001b[0mself\u001b[0m\u001b[1;33m.\u001b[0m\u001b[0m_session\u001b[0m\u001b[1;33m.\u001b[0m\u001b[0m_session\u001b[0m\u001b[1;33m,\u001b[0m \u001b[0mself\u001b[0m\u001b[1;33m.\u001b[0m\u001b[0m_handle\u001b[0m\u001b[1;33m,\u001b[0m \u001b[0margs\u001b[0m\u001b[1;33m,\u001b[0m \u001b[0mstatus\u001b[0m\u001b[1;33m,\u001b[0m\u001b[1;33m\u001b[0m\u001b[1;33m\u001b[0m\u001b[0m\n\u001b[1;32m-> 1439\u001b[1;33m               run_metadata_ptr)\n\u001b[0m\u001b[0;32m   1440\u001b[0m         \u001b[1;32mif\u001b[0m \u001b[0mrun_metadata\u001b[0m\u001b[1;33m:\u001b[0m\u001b[1;33m\u001b[0m\u001b[1;33m\u001b[0m\u001b[0m\n\u001b[0;32m   1441\u001b[0m           \u001b[0mproto_data\u001b[0m \u001b[1;33m=\u001b[0m \u001b[0mtf_session\u001b[0m\u001b[1;33m.\u001b[0m\u001b[0mTF_GetBuffer\u001b[0m\u001b[1;33m(\u001b[0m\u001b[0mrun_metadata_ptr\u001b[0m\u001b[1;33m)\u001b[0m\u001b[1;33m\u001b[0m\u001b[1;33m\u001b[0m\u001b[0m\n",
      "\u001b[1;31mKeyboardInterrupt\u001b[0m: "
     ]
    }
   ],
   "source": [
    "history = titan.fit(inputs, bs_targets, validation_split= 1-fraction_train, epochs=200, verbose = 1)"
   ]
  },
  {
   "cell_type": "code",
   "execution_count": 150,
   "metadata": {},
   "outputs": [],
   "source": [
    "pred = titan.predict(inputs)"
   ]
  },
  {
   "cell_type": "code",
   "execution_count": 155,
   "metadata": {},
   "outputs": [],
   "source": [
    "start, end = 5000,len(targets)"
   ]
  },
  {
   "cell_type": "code",
   "execution_count": null,
   "metadata": {},
   "outputs": [],
   "source": [
    "plt.plot(pred[start:end], c = \"r\")\n",
    "plt.plot(targets[start:end], c = \"b\")"
   ]
  },
  {
   "cell_type": "code",
   "execution_count": 32,
   "metadata": {},
   "outputs": [],
   "source": [
    "pred = titan.predict(inputs)"
   ]
  },
  {
   "cell_type": "code",
   "execution_count": null,
   "metadata": {},
   "outputs": [],
   "source": [
    "beg,end = 66994,68000\n",
    "plt.plot(pred[beg:end], c = \"r\")\n",
    "plt.plot(target_data[beg:end], c = \"b\")"
   ]
  },
  {
   "cell_type": "code",
   "execution_count": 134,
   "metadata": {
    "scrolled": true
   },
   "outputs": [],
   "source": [
    "talking(text = \"training complete;\" * 3)"
   ]
  },
  {
   "cell_type": "code",
   "execution_count": 33,
   "metadata": {},
   "outputs": [],
   "source": [
    "pred = pred.argsort()"
   ]
  },
  {
   "cell_type": "code",
   "execution_count": 34,
   "metadata": {},
   "outputs": [],
   "source": [
    "vs = int(fraction_train*len(targets))"
   ]
  },
  {
   "cell_type": "code",
   "execution_count": 35,
   "metadata": {},
   "outputs": [
    {
     "data": {
      "text/plain": [
       "(19, 758, 777)"
      ]
     },
     "execution_count": 35,
     "metadata": {},
     "output_type": "execute_result"
    }
   ],
   "source": [
    "x,y = sum(pred[vs:]),len(pred[vs:])\n",
    "x[0],x[1],y"
   ]
  },
  {
   "cell_type": "code",
   "execution_count": 40,
   "metadata": {},
   "outputs": [
    {
     "name": "stdout",
     "output_type": "stream",
     "text": [
      "(array([[0., 1.],\n",
      "       [1., 0.]]), array([398, 379], dtype=int64))\n",
      "buy: 379 sell: 398 total: 777\n"
     ]
    },
    {
     "data": {
      "text/plain": [
       "(0.4877734877734878, 0.5122265122265123)"
      ]
     },
     "execution_count": 40,
     "metadata": {},
     "output_type": "execute_result"
    }
   ],
   "source": [
    "buy, sell, tot = count_bs(bs_target[vs:], binary = True)\n",
    "buy/tot, sell/tot"
   ]
  },
  {
   "cell_type": "code",
   "execution_count": 124,
   "metadata": {},
   "outputs": [
    {
     "data": {
      "text/plain": [
       "0.5825684947474509"
      ]
     },
     "execution_count": 124,
     "metadata": {},
     "output_type": "execute_result"
    }
   ],
   "source": [
    "162430/278817"
   ]
  },
  {
   "cell_type": "code",
   "execution_count": 148,
   "metadata": {},
   "outputs": [
    {
     "data": {
      "text/plain": [
       "0.562776462711905"
      ]
     },
     "execution_count": 148,
     "metadata": {},
     "output_type": "execute_result"
    }
   ],
   "source": [
    "23537/41823"
   ]
  },
  {
   "cell_type": "code",
   "execution_count": 142,
   "metadata": {},
   "outputs": [
    {
     "data": {
      "text/plain": [
       "0.23419303700993843"
      ]
     },
     "execution_count": 142,
     "metadata": {},
     "output_type": "execute_result"
    }
   ],
   "source": [
    "65297/278817"
   ]
  },
  {
   "cell_type": "code",
   "execution_count": null,
   "metadata": {},
   "outputs": [],
   "source": []
  }
 ],
 "metadata": {
  "kernelspec": {
   "display_name": "Python 3",
   "language": "python",
   "name": "python3"
  },
  "language_info": {
   "codemirror_mode": {
    "name": "ipython",
    "version": 3
   },
   "file_extension": ".py",
   "mimetype": "text/x-python",
   "name": "python",
   "nbconvert_exporter": "python",
   "pygments_lexer": "ipython3",
   "version": "3.6.7"
  }
 },
 "nbformat": 4,
 "nbformat_minor": 2
}
