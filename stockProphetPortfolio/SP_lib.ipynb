{
 "cells": [
  {
   "cell_type": "code",
   "execution_count": 1,
   "metadata": {},
   "outputs": [
    {
     "name": "stderr",
     "output_type": "stream",
     "text": [
      "Using TensorFlow backend.\n"
     ]
    }
   ],
   "source": [
    "%matplotlib notebook\n",
    "%run C:/Users/jutnl/recursiveparadox/Speak.ipynb\n",
    "import os\n",
    "from keras.layers import *\n",
    "from keras.models import Sequential , Model\n",
    "from keras import regularizers\n",
    "from LSTM_FCN.alstm_fcn import *\n",
    "import numpy as np\n",
    "import pandas as pd\n",
    "import pandas_datareader.data as web\n",
    "import datetime as dt\n",
    "from sklearn.preprocessing import MinMaxScaler\n",
    "from sklearn.model_selection import train_test_split\n",
    "from alpha_vantage.timeseries import TimeSeries\n",
    "import matplotlib.pyplot as plt\n",
    "import time\n",
    "API_KEY = \"DPGC30D74WQONXJ8\"\n",
    "NOW = dt.datetime.now\n",
    "snp500_tickers = list(pd.read_csv(\"C:/Users/jutnl/recursiveparadox/StockProphet/Data/SPY_components\", index_col=0)[\"Symbol\"])\n",
    "tics = [i.replace(\".\" , \"-\") for i in snp500_tickers]\n",
    "tics.insert(0, \"SPY\")\n",
    "directory = \"C:/Users/jutnl/recursiveparadox/StockProphet/Data/\""
   ]
  },
  {
   "cell_type": "code",
   "execution_count": 2,
   "metadata": {},
   "outputs": [],
   "source": [
    "def rn():\n",
    "    print(\"my time is %s\"%NOW().strftime(\"%H:%M:%S\"))"
   ]
  },
  {
   "cell_type": "code",
   "execution_count": 3,
   "metadata": {},
   "outputs": [],
   "source": [
    "# get stock data from alpha vantage api\n",
    "def alphav_stockdata(ticker , interval = \"1min\", sound = False):\n",
    "    ts = TimeSeries(key=API_KEY, output_format='pandas')\n",
    "    for i in range(12):\n",
    "        try:\n",
    "            data, meta_data = ts.get_intraday(symbol=ticker,interval=interval, outputsize='full')\n",
    "            break\n",
    "        except KeyboardInterrupt:\n",
    "            raise\n",
    "        except:\n",
    "            print(\"there has been an error with {}\".format(ticker))\n",
    "            if i == 11:\n",
    "                if sound == True:\n",
    "                    for dum in range(4): talking(\"there has been an error with {}\".format(ticker))\n",
    "                return ticker\n",
    "            time.sleep(10)\n",
    "    data = data.rename(columns={'1. open' : ticker + \"open\", '2. high':ticker + \"high\", '3. low':ticker + \"low\", \n",
    "                                '4. close':ticker + \"close\", '5. volume': ticker + \"volume\"})\n",
    "    return data"
   ]
  },
  {
   "cell_type": "code",
   "execution_count": 4,
   "metadata": {},
   "outputs": [],
   "source": [
    "# get stock data from iex api\n",
    "def iex_stockdata(ticker , date , year = 2018, reduce = False):  # date = MM-DD, year = 2018\n",
    "    url = \"https://api.iextrading.com/1.0/stock/{}/chart/date/{}{}/\".format(ticker, year, date.replace(\"-\" , \"\"))\n",
    "    #print(url)\n",
    "    df = pd.read_json(url)\n",
    "    if len(df) == 0:\n",
    "        return None\n",
    "    df = df.rename(columns = {i:ticker + i for i in df.columns})\n",
    "    if reduce == True:\n",
    "        df = df[[ticker + 'date', ticker + 'minute',ticker + 'open', ticker + \"high\", \n",
    "                 ticker + \"low\", ticker + \"close\", ticker + \"volume\"]]\n",
    "    return df"
   ]
  },
  {
   "cell_type": "code",
   "execution_count": 5,
   "metadata": {},
   "outputs": [],
   "source": [
    "def trade_days(month_start , month_end):  \n",
    "    months = ['01', '02', '03', '04', '05', '06', '07', '08', '09', '10', '11', '12']\n",
    "    days = ['01', '02', '03', '04', '05', '06', '07', '08', '09', '10', '11', '12', '13', '14', '15', '16', '17', '18', '19',\n",
    "            '20', '21', '22','23', '24', '25', '26', '27', '28', '29', '30', '31']\n",
    "    temp = []\n",
    "    for M in months[month_start-1:month_end]:\n",
    "        for D in days:\n",
    "            temp.append(M+\"-\"+D)\n",
    "    return temp\n",
    "            "
   ]
  },
  {
   "cell_type": "code",
   "execution_count": 6,
   "metadata": {},
   "outputs": [],
   "source": [
    "# similar to bs_cat this will turn regression ready data into classification ready data\n",
    "def classed(target_data, *bins):\n",
    "    target_classes = pd.cut(target_data, [-1000,*bins,1000], labels=np.arange(len(bins)+1))\n",
    "    classed = []\n",
    "    for i in target_classes:\n",
    "        z = np.zeros(len(bins)+1)\n",
    "        z[i] = 1\n",
    "        classed.append(z)\n",
    "    target_classes = np.array(classed)\n",
    "    return target_classes"
   ]
  },
  {
   "cell_type": "code",
   "execution_count": 7,
   "metadata": {},
   "outputs": [],
   "source": [
    "def percent_change(*arr, mult = 100): ## ASSUMES data is positive otherwise negatives cancel for pchang!\n",
    "    pchang_list = np.array([0])\n",
    "    arr1 = arr[0]\n",
    "    arr2 = arr[len(arr)-1] # if 2 arrs then difference delta latter minus former\n",
    "    for i in range(len(arr1) - 1):\n",
    "        if np.isnan(arr1[i]) or np.isnan(arr2[i+1]) or arr1[i] == 0:\n",
    "            pchang = 0\n",
    "        else:\n",
    "            delta = arr2[i + 1] - arr1[i]\n",
    "            pchang = mult * delta/arr1[i]\n",
    "        pchang_list = np.append(pchang_list, pchang)\n",
    "    return pchang_list\n",
    "        "
   ]
  },
  {
   "cell_type": "code",
   "execution_count": 8,
   "metadata": {},
   "outputs": [],
   "source": [
    "# uses data to calculate the Relative Strength Index\n",
    "def RSI_(data , n):\n",
    "    gain , loss , RSI = np.array([0]) , np.array([0]) , np.array([0]  * n)\n",
    "    for i in range(1 , len(data)):\n",
    "        delta = data[i] - data[i-1]\n",
    "        if delta > 0:\n",
    "            gain = np.append(gain, np.abs(delta))\n",
    "            loss = np.append(loss, np.abs(0))\n",
    "        else:\n",
    "            gain = np.append(gain, np.abs(0))\n",
    "            loss = np.append(loss, np.abs(delta))\n",
    "        if i == n:\n",
    "            av_gain = np.array([0]  * n + [np.sum(gain)/n]) \n",
    "            av_loss = np.array([0]  * n + [np.sum(loss)/n])\n",
    "        elif i > n:\n",
    "            av_gain = np.append(av_gain , (av_gain[-1] * (n - 1) + gain[-1])/n)\n",
    "            av_loss = np.append(av_loss , (av_loss[-1] * (n - 1) + loss[-1])/n)\n",
    "        if i>= n:\n",
    "            if av_loss[-1] == 0: RSI = np.append(RSI, 1)\n",
    "            else:\n",
    "                RS = (av_gain[-1]/av_loss[-1])\n",
    "                RSI = np.append(RSI ,  1 - (1/(1 + RS)))\n",
    "    return RSI"
   ]
  },
  {
   "cell_type": "code",
   "execution_count": 9,
   "metadata": {},
   "outputs": [],
   "source": [
    "# uses data to calculate the Money Flow Index\n",
    "def MFI_(price, volume , n):\n",
    "    gain , loss , MFI = np.array([0]) , np.array([0]) , np.array([0]  * n)\n",
    "    for i in range(1 , len(price)):\n",
    "        delta = price[i] - price[i-1]\n",
    "        if delta > 0:\n",
    "            gain = np.append(gain, np.abs(delta * volume[i]))\n",
    "            loss = np.append(loss, 0)\n",
    "        else:\n",
    "            gain = np.append(gain, 0)\n",
    "            loss = np.append(loss, np.abs(delta * volume[i]))\n",
    "        if i>= n:\n",
    "            total_loss = np.sum(loss[-1*n:])\n",
    "            if total_loss == 0: MFI = np.append(MFI ,  1)\n",
    "            else:\n",
    "                MF = np.sum(gain[-1*n:])/np.sum(loss[-1*n:])\n",
    "                MFI = np.append(MFI ,  1 - (1/(1 + MF)))\n",
    "    return MFI"
   ]
  },
  {
   "cell_type": "code",
   "execution_count": 10,
   "metadata": {},
   "outputs": [],
   "source": [
    "def multi_stock_manipulation(data_set, amt_col = 5):\n",
    "    data_set = data_set.fillna(method = \"ffill\")\n",
    "    data_set = data_set.fillna(method = \"bfill\")\n",
    "    tickers = data_set.columns\n",
    "    dfs = []\n",
    "    for i in range(0,len(data_set.columns),amt_col):\n",
    "        data = pd.DataFrame(data_set.iloc[:,i:i+amt_col])\n",
    "        tic = tickers[i].replace(\"open\",\"\")\n",
    "        if (i // amt_col)%50 == 0: print(tic)\n",
    "        df = data_reduction(data, tic)\n",
    "        dfs.append(df)\n",
    "    new_data =  pd.concat([df for df in dfs] , axis = 1 , ignore_index=False, sort=True) \n",
    "    return new_data"
   ]
  },
  {
   "cell_type": "code",
   "execution_count": 11,
   "metadata": {},
   "outputs": [],
   "source": [
    "#note that each data set is fitted seperately so this assumes the test data is being fitted as well\n",
    "#in real performance the scaler fittings must be remembered so that they can transform incoming data\n",
    "#alternatively just add the incoming data to the data set and perform the data reduction again. This will make the NN slightly\n",
    "#off because the scaling is slightly adjusted with new data but this is minimal\n",
    "\n",
    "def data_reduction(data , tic, indicators = [\"openS\", \"closeS\", \"openP\" , \"closeP\" , \"volumeS\",\n",
    "                                             \"spread\" , \"RSI\", \"MFI\", \"DFnorm\"]):\n",
    "    if \"openS\" in indicators:\n",
    "        data[tic + \"openS\"] = scaler.fit_transform(np.array(data[tic + \"open\"]).reshape(-1,1))\n",
    "    if \"closeS\" in indicators:\n",
    "        data[tic + \"closeS\"] = scaler.fit_transform(np.array(data[tic + \"close\"]).reshape(-1,1))\n",
    "    if \"openP\" in indicators:\n",
    "        data[tic + \"openP\"] = scaler.fit_transform(percent_change(data[tic + \"open\"]).reshape(-1,1))\n",
    "    if \"closeP\" in indicators:        \n",
    "        data[tic + \"closeP\"] = scaler.fit_transform(percent_change(data[tic + \"close\"]).reshape(-1,1))\n",
    "    if \"RSI\" in indicators:\n",
    "        data[tic + \"RSI\"] = RSI_(data[tic + \"close\"] , 14)\n",
    "    if \"MFI\" in indicators:\n",
    "        data[tic + \"MFI\"] = MFI_(data[tic + \"close\"], data[tic + \"volume\"], 14)\n",
    "    if \"volumeS\" in indicators:\n",
    "        data[tic + \"volumeS\"] = scaler.fit_transform(np.array(data[tic + \"volume\"]).reshape(-1,1))\n",
    "    if \"spread\" in indicators:\n",
    "        data[tic + \"spread\"] = data[tic + \"high\"] - data[tic + \"low\"]\n",
    "        data[tic + \"spread\"] = scaler.fit_transform(np.array(data[tic + \"spread\"]).reshape(-1,1))\n",
    "    if \"DF\" in indicators:\n",
    "        data[tic + \"DF\"] = (data[tic + \"high\"] - data[tic + \"close\"]) - (data[tic + \"close\"] - data[tic + \"low\"])\n",
    "    if \"DFnorm\" in indicators:\n",
    "        data[tic + \"DFnorm\"] = (data[tic + \"high\"] - data[tic + \"close\"]) - (data[tic + \"close\"] - data[tic + \"low\"])\n",
    "        data[tic + \"DFnorm\"] = scaler.fit_transform(np.array(data[tic + \"DFnorm\"]).reshape(-1,1))\n",
    "    data = data[[tic + i for i in indicators]]\n",
    "    return data"
   ]
  },
  {
   "cell_type": "code",
   "execution_count": 13,
   "metadata": {},
   "outputs": [],
   "source": [
    "def setup_data(input_data , target_data , sample_size = 30):\n",
    "    # splits data into train and test based on where the train_valid_cut is, remember training data begins at sample_size NOT 0\n",
    "    # sample_size is how many minutes or days (depending on data) you want your model to look at before predicting outcome\n",
    "    endline = len(input_data)\n",
    "    print(\"sample {} endline {}\".format(len(sample),len(endline)))\n",
    "    inputs = np.array([np.array(input_data[i-sample_size:i]) for i in range(sample_size , endline)])\n",
    "    target = np.array([np.array(target_data[i]) for i in range(sample_size , endline)])\n",
    "    return inputs, target"
   ]
  },
  {
   "cell_type": "code",
   "execution_count": 14,
   "metadata": {},
   "outputs": [],
   "source": [
    "def demo(*args):\n",
    "    for arg in zip(*args):\n",
    "        print(\"{:7.2f} {:7.2f}\".format(*arg))"
   ]
  },
  {
   "cell_type": "code",
   "execution_count": 15,
   "metadata": {},
   "outputs": [],
   "source": [
    "# transforms target data set into binary buy [1,0] or sell [0,1]\n",
    "def bs_cat(data_set):\n",
    "    bs = np.concatenate([np.array([1]),np.sign(np.diff(data_set))])\n",
    "    onehot = np.zeros((len(bs),2))\n",
    "    for i,e in enumerate(bs):\n",
    "        if e == 1: onehot[i] = np.array([1,0])\n",
    "        else: onehot[i] = np.array([0,1])\n",
    "        \n",
    "    return onehot"
   ]
  },
  {
   "cell_type": "code",
   "execution_count": 16,
   "metadata": {},
   "outputs": [],
   "source": [
    "# counts number of buys and sells of a data set\n",
    "def count_bs(bs, binary = False):\n",
    "    if binary == True:\n",
    "        u = np.unique(bs, axis = 0, return_counts = True)\n",
    "        print(u)\n",
    "        buy = u[1][1]\n",
    "        sell = u[1][0]\n",
    "    else:\n",
    "        buy = np.count_nonzero(bs == 1.0)\n",
    "        sell = np.count_nonzero(bs == -1.0)\n",
    "    total = buy + sell\n",
    "    print(\"buy: {} sell: {} total: {}\".format(buy, sell, total))\n",
    "    return buy, sell, total"
   ]
  },
  {
   "cell_type": "code",
   "execution_count": 17,
   "metadata": {},
   "outputs": [],
   "source": [
    "def accuracy(prediction, real):\n",
    "    prediction_bs = np.sign(np.diff(prediction.flatten()))\n",
    "    real_bs = np.sign(np.diff(real.flatten()))\n",
    "    correct = np.sum(prediction_bs == real_bs)\n",
    "    total = len(real_bs)\n",
    "    incorrect = total - correct\n",
    "    accuracy = 100 * correct/total\n",
    "    return \"accuracy = {:4.2f}%   correct = {:4d}   incorrect = {:4d}   total = {:4d}\".format(accuracy, \n",
    "                                                                                             correct, incorrect, total)"
   ]
  },
  {
   "cell_type": "code",
   "execution_count": 18,
   "metadata": {},
   "outputs": [],
   "source": [
    "def profitable(buysell, target, price):\n",
    "    profit = 0\n",
    "    old_price = price\n",
    "    for i in range(0 , len(target)):\n",
    "        new_price = old_price * (1 + target[i]/100)\n",
    "        dif = new_price - old_price\n",
    "        old_price = new_price\n",
    "        if i == len(target) - 1:\n",
    "            last_price = new_price\n",
    "        if buysell[i] == 0:  #0 means buy\n",
    "            profit += dif\n",
    "    return profit, last_price - price, len(target)"
   ]
  },
  {
   "cell_type": "code",
   "execution_count": null,
   "metadata": {},
   "outputs": [],
   "source": []
  }
 ],
 "metadata": {
  "kernelspec": {
   "display_name": "Python 3",
   "language": "python",
   "name": "python3"
  },
  "language_info": {
   "codemirror_mode": {
    "name": "ipython",
    "version": 3
   },
   "file_extension": ".py",
   "mimetype": "text/x-python",
   "name": "python",
   "nbconvert_exporter": "python",
   "pygments_lexer": "ipython3",
   "version": "3.6.7"
  }
 },
 "nbformat": 4,
 "nbformat_minor": 2
}
