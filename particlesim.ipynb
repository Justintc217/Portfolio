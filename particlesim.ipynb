{
 "cells": [
  {
   "cell_type": "code",
   "execution_count": 5,
   "metadata": {},
   "outputs": [],
   "source": [
    "class Obj():\n",
    "    def __init__(self, x = 0, y= 0, px = 0 , py = 0 , shape = \"*\"):\n",
    "        self.x = x\n",
    "        self.y = y\n",
    "        self.px = px\n",
    "        self.py = py\n",
    "        self.shape = shape\n",
    "    "
   ]
  },
  {
   "cell_type": "code",
   "execution_count": 6,
   "metadata": {},
   "outputs": [],
   "source": [
    "class Game(Obj):\n",
    "    def __init__(self, r, width  = 100, length = 60, var = 1):\n",
    "        self.length = length\n",
    "        self.width = width\n",
    "        self.board = (\"#\"*width + \"\\n\")* length\n",
    "        self.r = r\n",
    "        self.p = r\n",
    "    \n",
    "    def show_board(self):\n",
    "        print(self.board)\n",
    "        \n",
    "    def place(self, shape, posx , posy):\n",
    "        pos = posx + (self.width + 1) * posy\n",
    "        self.board = self.board[0:pos] + shape + self.board[pos+1::]\n",
    "    \n",
    "    def move(self, shape , px, py):\n",
    "        self.place(\"#\" , self.r.x, self.r.y)\n",
    "        self.r.x += px\n",
    "        self.r.y += py\n",
    "        self.place(shape , self.r.x, self.r.y)\n",
    "        \n",
    "    def act(self):\n",
    "        self.place(self.r.shape , self.r.x, self.r.y)\n",
    "        self.show_board()\n",
    "        for i in range(10):\n",
    "            if self.r.x + self.r.px < 0 or self.r.x  + self.r.px > self.width - 1:\n",
    "                self.r.px = -self.r.px\n",
    "            if self.r.y + self.r.py < 0 or self.r.y  + self.r.py > self.length - 1:\n",
    "                self.r.py = -self.r.py\n",
    "            self.move(self.r.shape , self.r.px, self.r.py)\n",
    "            self.show_board()\n",
    "    "
   ]
  },
  {
   "cell_type": "code",
   "execution_count": 4,
   "metadata": {
    "scrolled": false
   },
   "outputs": [
    {
     "ename": "NameError",
     "evalue": "name 'Obj' is not defined",
     "output_type": "error",
     "traceback": [
      "\u001b[1;31m---------------------------------------------------------------------------\u001b[0m",
      "\u001b[1;31mNameError\u001b[0m                                 Traceback (most recent call last)",
      "\u001b[1;32m<ipython-input-4-396aa706537e>\u001b[0m in \u001b[0;36m<module>\u001b[1;34m()\u001b[0m\n\u001b[1;32m----> 1\u001b[1;33m \u001b[0mg\u001b[0m\u001b[1;33m=\u001b[0m \u001b[0mObj\u001b[0m\u001b[1;33m(\u001b[0m\u001b[1;33m)\u001b[0m\u001b[1;33m\u001b[0m\u001b[0m\n\u001b[0m\u001b[0;32m      2\u001b[0m \u001b[0mQ\u001b[0m \u001b[1;33m=\u001b[0m \u001b[0mGame\u001b[0m\u001b[1;33m(\u001b[0m\u001b[0mg\u001b[0m\u001b[1;33m)\u001b[0m\u001b[1;33m\u001b[0m\u001b[0m\n\u001b[0;32m      3\u001b[0m \u001b[0mQ\u001b[0m\u001b[1;33m.\u001b[0m\u001b[0mact\u001b[0m\u001b[1;33m(\u001b[0m\u001b[1;33m)\u001b[0m\u001b[1;33m\u001b[0m\u001b[0m\n",
      "\u001b[1;31mNameError\u001b[0m: name 'Obj' is not defined"
     ]
    }
   ],
   "source": [
    "g= Obj()\n",
    "Q = Game(g)\n",
    "Q.act()"
   ]
  },
  {
   "cell_type": "code",
   "execution_count": 306,
   "metadata": {},
   "outputs": [
    {
     "name": "stdout",
     "output_type": "stream",
     "text": [
      "####################\n",
      "####################\n",
      "####################\n",
      "####################\n",
      "####################\n",
      "\n"
     ]
    }
   ],
   "source": [
    "G = Game(r)\n",
    "G.show_board()"
   ]
  },
  {
   "cell_type": "code",
   "execution_count": null,
   "metadata": {},
   "outputs": [],
   "source": []
  }
 ],
 "metadata": {
  "kernelspec": {
   "display_name": "Python 3",
   "language": "python",
   "name": "python3"
  },
  "language_info": {
   "codemirror_mode": {
    "name": "ipython",
    "version": 3
   },
   "file_extension": ".py",
   "mimetype": "text/x-python",
   "name": "python",
   "nbconvert_exporter": "python",
   "pygments_lexer": "ipython3",
   "version": "3.6.4"
  }
 },
 "nbformat": 4,
 "nbformat_minor": 2
}
