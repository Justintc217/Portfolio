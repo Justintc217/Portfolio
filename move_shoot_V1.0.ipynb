{
 "cells": [
  {
   "cell_type": "code",
   "execution_count": 1,
   "metadata": {},
   "outputs": [],
   "source": [
    "# objective is to create a game on a board where you can move and shoot\n",
    "# We will need a player that is an element that can change places in an array\n",
    "# The player will need to be able to control when they shoot\n",
    "# let us begin with a simple version of an element moving in a 1d array"
   ]
  },
  {
   "cell_type": "code",
   "execution_count": 2,
   "metadata": {},
   "outputs": [],
   "source": [
    "import numpy as np\n",
    "import time\n",
    "from IPython.display import clear_output"
   ]
  },
  {
   "cell_type": "code",
   "execution_count": 3,
   "metadata": {},
   "outputs": [],
   "source": [
    "shot_dict = {\"w\":[0,1], \"s\":[0,-1], \"d\":[1,0], \"a\":[-1,0]}"
   ]
  },
  {
   "cell_type": "code",
   "execution_count": 4,
   "metadata": {},
   "outputs": [],
   "source": [
    "def check_wall(var, end, velocity = 0, bounce = False):\n",
    "    end = end - 1 # g = [0] * 8 has g[7] as last value\n",
    "    var_greater = var > end\n",
    "    var_lesser = var < 0\n",
    "    if bounce is True:\n",
    "        if var_greater:\n",
    "            var = end - (var-end)\n",
    "            velocity = -1 * velocity\n",
    "        elif var_lesser:\n",
    "            var = -1 * var\n",
    "            velocity = -1 * velocity\n",
    "        return var, velocity\n",
    "    else:\n",
    "        if var_greater:\n",
    "             var = end\n",
    "        elif var_lesser:\n",
    "            var = 0\n",
    "        return var"
   ]
  },
  {
   "cell_type": "code",
   "execution_count": 5,
   "metadata": {},
   "outputs": [],
   "source": [
    "def rd(start = -2,end = 2):\n",
    "    return np.random.randint(start,end+1)"
   ]
  },
  {
   "cell_type": "code",
   "execution_count": 121,
   "metadata": {},
   "outputs": [],
   "source": [
    "def shooting(hum, bees, board, counter, max_velocity = 3):\n",
    "    if hum.health == True:\n",
    "        shoot = input(hum.name + \" shoot: \")\n",
    "        if len(shoot) != 0:\n",
    "            shot = [sum(x) for x in zip(*[shot_dict[i] for i in shoot])]\n",
    "            if not (sum(shot) > max_velocity):\n",
    "                b = Bullet(hum,*shot,\"*\",board, ID = hum.shape + str(counter))\n",
    "                bees.append(b)"
   ]
  },
  {
   "cell_type": "code",
   "execution_count": 122,
   "metadata": {},
   "outputs": [],
   "source": [
    "def collision(hums, bees, board):\n",
    "    hums_del, bees_del = [], []\n",
    "    bees_positions = [b.position for b in bees]\n",
    "    hums_positions = [hum.position for hum in hums]\n",
    "    positions = hums_positions + bees_positions\n",
    "    for position in positions:\n",
    "        duplicates = [index for index,element in enumerate(positions) if element == position]\n",
    "        if len(duplicates) > 1:\n",
    "            print(duplicates)\n",
    "            for duplicate in duplicates:\n",
    "                if duplicate < len(hums_positions):\n",
    "                    hums_del.append(duplicate)\n",
    "                else:\n",
    "                    bees_del.append(duplicate)\n",
    "                    \n",
    "    bees = [b for index, b in enumerate(bees) if index + len(hums) not in bees_del]\n",
    "    hums = [hum for index, hum in enumerate(hums) if index not in hums_del]\n",
    "    return hums, bees"
   ]
  },
  {
   "cell_type": "code",
   "execution_count": 123,
   "metadata": {},
   "outputs": [],
   "source": [
    "def moving(hum, board):\n",
    "    if hum.health == True:\n",
    "        direction = input(hum.name + \" move: \")\n",
    "        if direction in \"wasd\": hum.move(direction)"
   ]
  },
  {
   "cell_type": "code",
   "execution_count": 124,
   "metadata": {},
   "outputs": [],
   "source": [
    "class Board():\n",
    "    def __init__(self,L,H,shape):\n",
    "        self.L = L\n",
    "        self.H = H\n",
    "        self.shape = shape\n",
    "        self.board = [[shape]*L for i in range(H)]\n",
    "        \n",
    "    def update(self, *actors):\n",
    "        self.clear()\n",
    "        for actor in actors:\n",
    "            self.board[(self.H - 1) - actor.y][actor.x] = actor.shape\n",
    "        \n",
    "    def show(self):\n",
    "        for i in range(self.H): print(*self.board[i])\n",
    "            \n",
    "    def clear(self):\n",
    "        self.board = [[0]*self.L for i in range(self.H)]\n",
    "    "
   ]
  },
  {
   "cell_type": "code",
   "execution_count": 125,
   "metadata": {},
   "outputs": [],
   "source": [
    "class Human():\n",
    "    def __init__(self,shape,x,y,board,name, health = True):\n",
    "        self.shape = shape\n",
    "        self.x = x\n",
    "        self.y = y\n",
    "        self.position = (x,y)\n",
    "        self.board = board\n",
    "        self.name = name\n",
    "        self.health = health\n",
    "\n",
    "    def move(self,key):\n",
    "        if key == \"w\": self.y += 1\n",
    "        elif key == \"s\": self.y -= 1\n",
    "        elif key == \"d\": self.x += 1\n",
    "        elif key == \"a\": self.x -= 1\n",
    "        self.position = (self.x,self.y)\n",
    "        self.x = check_wall(self.x, self.board.L)\n",
    "        self.y = check_wall(self.y, self.board.H)"
   ]
  },
  {
   "cell_type": "code",
   "execution_count": 126,
   "metadata": {},
   "outputs": [],
   "source": [
    "class Bullet():\n",
    "    def __init__(self,actor,v_x,v_y,shape,board, ID):\n",
    "        self.v_x = v_x\n",
    "        self.v_y = v_y\n",
    "        self.shape = shape\n",
    "        self.x = actor.x\n",
    "        self.y = actor.y\n",
    "        self.position = (actor.x, actor.y)\n",
    "        self.board = board\n",
    "        self.ID = ID\n",
    "    \n",
    "    def fly(self):\n",
    "        self.x += self.v_x\n",
    "        self.y += self.v_y\n",
    "        self.x, self.v_x = check_wall(self.x, self.board.L, self.v_x, bounce = True)\n",
    "        self.y, self.v_y = check_wall(self.y, self.board.H, self.v_y, bounce = True)\n",
    "        self.position = (self.x, self.y)"
   ]
  },
  {
   "cell_type": "code",
   "execution_count": 127,
   "metadata": {},
   "outputs": [],
   "source": [
    "def turn(hum):\n",
    "    moving(hum, board)\n",
    "    shooting(hum, bees, board, max_velocity= 3)"
   ]
  },
  {
   "cell_type": "code",
   "execution_count": 128,
   "metadata": {
    "scrolled": true
   },
   "outputs": [
    {
     "name": "stdout",
     "output_type": "stream",
     "text": [
      "C 0 0 0 B\n",
      "0 0 0 0 0\n",
      "0 0 0 0 0\n",
      "0 0 0 0 0\n",
      "A 0 0 0 D\n"
     ]
    }
   ],
   "source": [
    "board = Board(5, 5, shape = 0)\n",
    "hum1 = Human(\"A\",0,0,board,\"player A\")\n",
    "hum2 = Human(\"B\",board.L-1,board.H-1,board, \"player B\")\n",
    "hum3 = Human(\"C\",0,board.H-1,board, \"player C\")\n",
    "hum4 = Human(\"D\",board.L-1,0,board, \"player D\")\n",
    "hums = [hum1, hum2, hum3, hum4]\n",
    "counter = 0\n",
    "bees = []\n",
    "board.update(*hums)\n",
    "board.show()"
   ]
  },
  {
   "cell_type": "code",
   "execution_count": 129,
   "metadata": {},
   "outputs": [
    {
     "name": "stdout",
     "output_type": "stream",
     "text": [
      "0 * 0 0 0\n",
      "* 0 * 0 0\n",
      "0 0 * 0 0\n",
      "0 0 0 0 0\n",
      "0 0 0 0 0\n",
      "updated --------\n"
     ]
    }
   ],
   "source": [
    "for i in range(15):\n",
    "    counter += 1\n",
    "    for hum in hums: turn(hum)\n",
    "    for b in bees: b.fly()\n",
    "    hums, bees = collision(hums, bees, board)\n",
    "    board.update(*hums, *bees)\n",
    "    clear_output()\n",
    "    board.show()\n",
    "    print(\"updated --------\")\n",
    "    time.sleep(0.5)"
   ]
  },
  {
   "cell_type": "code",
   "execution_count": null,
   "metadata": {},
   "outputs": [],
   "source": []
  }
 ],
 "metadata": {
  "kernelspec": {
   "display_name": "Python 3",
   "language": "python",
   "name": "python3"
  },
  "language_info": {
   "codemirror_mode": {
    "name": "ipython",
    "version": 3
   },
   "file_extension": ".py",
   "mimetype": "text/x-python",
   "name": "python",
   "nbconvert_exporter": "python",
   "pygments_lexer": "ipython3",
   "version": "3.6.7"
  }
 },
 "nbformat": 4,
 "nbformat_minor": 2
}
