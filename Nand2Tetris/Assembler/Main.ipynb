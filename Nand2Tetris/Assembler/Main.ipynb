{
 "cells": [
  {
   "cell_type": "code",
   "execution_count": 12,
   "metadata": {},
   "outputs": [],
   "source": [
    "import sys\n",
    "from pathlib import Path\n",
    "from Assembler import Assembler\n",
    "from c_instruction_map import comp, dest, jump, symbols\n",
    "\n",
    "try:\n",
    "    relative_path = Path(sys.argv[1])\n",
    "except IndexError:\n",
    "    relative_path = Path(input(\"type file path from 06. eg \\\"add/Add.asm\\\" :\"))\n",
    "\n",
    "PROJECT_PATH = Path(\"D:/nand2tetris/projects/06\")\n",
    "PROGRAM_PATH = PROJECT_PATH / relative_path\n",
    "HACK_PATH = PROGRAM_PATH.parent / (PROGRAM_PATH.stem + \".hack\")\n",
    "\n",
    "if __name__ == \"__main__\":\n",
    "    with open(PROGRAM_PATH) as asm_file:\n",
    "        assembler_instance = Assembler(comp, dest, jump, symbols, asm_file)\n",
    "        assembly = assembler_instance.extract_assembly_from_file()\n",
    "\n",
    "    assembler_instance.load_reference_to_symbols_table(assembly)\n",
    "\n",
    "    assembly_without_references = assembler_instance.remove_references(assembly)\n",
    "\n",
    "    hack_binary = assembler_instance.assemble(assembly_without_references)\n",
    "\n",
    "    with open(HACK_PATH, \"w\") as hack_file:\n",
    "        hack_file.writelines(hack_binary)"
   ]
  }
 ],
 "metadata": {
  "kernelspec": {
   "display_name": "Python 3",
   "language": "python",
   "name": "python3"
  },
  "language_info": {
   "codemirror_mode": {
    "name": "ipython",
    "version": 3
   },
   "file_extension": ".py",
   "mimetype": "text/x-python",
   "name": "python",
   "nbconvert_exporter": "python",
   "pygments_lexer": "ipython3",
   "version": "3.6.7"
  }
 },
 "nbformat": 4,
 "nbformat_minor": 2
}
