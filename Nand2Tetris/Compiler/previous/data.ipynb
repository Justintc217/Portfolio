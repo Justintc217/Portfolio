{
 "cells": [
  {
   "cell_type": "markdown",
   "metadata": {},
   "source": [
    "categories are\n",
    "\n",
    "keyword\n",
    "symbol\n",
    "integerConstant\n",
    "stringConstant\n",
    "identifier\n",
    "\n",
    "sorts\n",
    "    startswith number --> int\n",
    "    startswith quotes --> string\n",
    "    is symbol --> symbol\n",
    "    startswith letter\n",
    "        in keywords\n",
    "        else identifier"
   ]
  },
  {
   "cell_type": "code",
   "execution_count": null,
   "metadata": {},
   "outputs": [],
   "source": [
    "import string"
   ]
  },
  {
   "cell_type": "code",
   "execution_count": 51,
   "metadata": {},
   "outputs": [],
   "source": [
    "def identify_token(token: str) -> str:\n",
    "    if token[0] in string.digits:\n",
    "        return \"integerConstant\"\n",
    "    if token[0] == \"\\\"\":\n",
    "        return \"stringConstant\"\n",
    "    if token[0] in data[\"symbol\"]:\n",
    "        return \"symbol\"\n",
    "    if token in data[\"keyword\"]:\n",
    "        return \"keyword\"\n",
    "    else:\n",
    "        return \"identifier\""
   ]
  },
  {
   "cell_type": "code",
   "execution_count": 48,
   "metadata": {},
   "outputs": [],
   "source": [
    "data = {\n",
    "    \"keyword\": [\n",
    "        \"class\",\n",
    "        \"constructor\",\n",
    "        \"function\",\n",
    "        \"method\",\n",
    "        \"field\",\n",
    "        \"static\",\n",
    "        \"var\",\n",
    "        \"int\",\n",
    "        \"char\",\n",
    "        \"boolean\",\n",
    "        \"void\",\n",
    "        \"true\",\n",
    "        \"false\",\n",
    "        \"null\",\n",
    "        \"this\",\n",
    "        \"let\",\n",
    "        \"do\",\n",
    "        \"if\",\n",
    "        \"else\",\n",
    "        \"while\",\n",
    "        \"return\",\n",
    "    ],\n",
    "    \n",
    "    \"symbol\": \"{}()[].,;+-*/&|<>=~\"\n",
    "}"
   ]
  },
  {
   "cell_type": "code",
   "execution_count": null,
   "metadata": {},
   "outputs": [],
   "source": []
  }
 ],
 "metadata": {
  "kernelspec": {
   "display_name": "Python 3",
   "language": "python",
   "name": "python3"
  },
  "language_info": {
   "codemirror_mode": {
    "name": "ipython",
    "version": 3
   },
   "file_extension": ".py",
   "mimetype": "text/x-python",
   "name": "python",
   "nbconvert_exporter": "python",
   "pygments_lexer": "ipython3",
   "version": "3.6.10"
  }
 },
 "nbformat": 4,
 "nbformat_minor": 2
}
