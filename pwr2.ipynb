{
 "cells": [
  {
   "cell_type": "code",
   "execution_count": null,
   "metadata": {
    "collapsed": true
   },
   "outputs": [],
   "source": [
    "### how can I take 100 and invpwr2lo it by .25 such that (((x ^ x) ^ x) ^ x) = 100"
   ]
  },
  {
   "cell_type": "code",
   "execution_count": null,
   "metadata": {
    "collapsed": true
   },
   "outputs": [],
   "source": [
    "# (2 ^^ 3) ^^ .333 = 2\n",
    "# 16 ^^ .333 = 2\n",
    "#a ^ (b + c) = a^b * a^c\n",
    "# 2 ^^l (2 + 3) = 2^16\n",
    "# (2 ^ 2) ^ (2 ^ 2 ^ 2)"
   ]
  },
  {
   "cell_type": "code",
   "execution_count": 309,
   "metadata": {
    "collapsed": true
   },
   "outputs": [],
   "source": [
    "import math\n",
    "import numpy as np\n",
    "import operator"
   ]
  },
  {
   "cell_type": "code",
   "execution_count": 254,
   "metadata": {
    "collapsed": true
   },
   "outputs": [],
   "source": [
    "# a ^ b = n what is a ^^ b , 3^^4 = 3^3^3^3\n",
    "\n",
    "def pwr2up(a , b):\n",
    "    num = a\n",
    "    for i in range(1 , b):\n",
    "        num = a ** num\n",
    "    return num\n",
    "\n",
    "def pwr2lo(a , b):\n",
    "    num = a\n",
    "    for i in range(1 , b):\n",
    "        num = num ** a\n",
    "        #print(num)\n",
    "    return num\n",
    "    "
   ]
  },
  {
   "cell_type": "code",
   "execution_count": 388,
   "metadata": {},
   "outputs": [],
   "source": [
    "def invpwr2lo(v , r):\n",
    "    beginlist = 0\n",
    "    cat = np.array([])\n",
    "    dog = np.array([])\n",
    "    result = \"fail\"\n",
    "    end = False\n",
    "    if v > 5:\n",
    "        rang = v + v ** 0.9\n",
    "    else:\n",
    "        rang = 0.5\n",
    "    for w in range(1 , 10):\n",
    "        for i in range(0 , 10):\n",
    "            for j in range(0 , 10):\n",
    "                guess = pwr2lo(w + (i/10) + (j/100), r)\n",
    "                #print(guess)\n",
    "                if math.isclose(guess , v , abs_tol = rang) == True:\n",
    "                    beginlist = 1\n",
    "                    dum = w + (i/10) + (j/100)\n",
    "                    cat = np.append(cat , guess)\n",
    "                    dog = np.append(dog , dum)\n",
    "\n",
    "\n",
    "\n",
    "                elif beginlist == 1:\n",
    "                    end = True\n",
    "                    correct = min(cat, key=lambda x:abs(x-v))\n",
    "\n",
    "\n",
    "                    for k in range(0 , len(cat)):\n",
    "                        if math.isclose(correct , cat[k] , abs_tol = abs(.001)) == True:\n",
    "                            result = \"{0:.2f}\".format(dog[k])\n",
    "                            result = float(result)\n",
    "\n",
    "\n",
    "                    break\n",
    "            if end == True:\n",
    "                break\n",
    "        if end == True:\n",
    "            break\n",
    "\n",
    "        #print(cat , dog) \n",
    "        #print(correct)\n",
    "    return result"
   ]
  },
  {
   "cell_type": "code",
   "execution_count": 392,
   "metadata": {
    "scrolled": false
   },
   "outputs": [
    {
     "data": {
      "text/plain": [
       "2.96"
      ]
     },
     "execution_count": 392,
     "metadata": {},
     "output_type": "execute_result"
    }
   ],
   "source": [
    "invpwr2lo(1000000000000000000000000000000000000 , 5)"
   ]
  },
  {
   "cell_type": "code",
   "execution_count": 390,
   "metadata": {},
   "outputs": [
    {
     "data": {
      "text/plain": [
       "3.39451082986028e+80"
      ]
     },
     "execution_count": 390,
     "metadata": {},
     "output_type": "execute_result"
    }
   ],
   "source": [
    "pwr2lo(3.49 , 5)"
   ]
  },
  {
   "cell_type": "code",
   "execution_count": 256,
   "metadata": {
    "collapsed": true
   },
   "outputs": [],
   "source": [
    "# (num ^^ 20) ^^ (1/10) = num ^ num\n",
    "x ^ x ^ x ^ x ^ x ^ x = y ^ y ^ y\n",
    "x * x * x * x * x * x = y * y * y"
   ]
  },
  {
   "cell_type": "code",
   "execution_count": 286,
   "metadata": {},
   "outputs": [
    {
     "name": "stdout",
     "output_type": "stream",
     "text": [
      "1.72\n",
      "1.72\n",
      "1.72\n",
      "1.72\n",
      "1.72\n",
      "1.72\n",
      "1.72\n",
      "1.72\n",
      "1.72\n",
      "1.72\n",
      "1.72\n",
      "1.72\n",
      "1.72\n",
      "1.72\n",
      "1.72\n",
      "1.72\n",
      "1.72\n",
      "1.72\n",
      "1.72\n",
      "1.72\n",
      "1.72\n",
      "1.72\n",
      "1.72\n"
     ]
    }
   ],
   "source": [
    "# 1.3 ^^ 1.4\n",
    "for n in range (2, 25):\n",
    "    ans = invpwr2lo(pwr2lo(1.15 , 30) , 6)\n",
    "    print(ans)"
   ]
  },
  {
   "cell_type": "code",
   "execution_count": 269,
   "metadata": {},
   "outputs": [
    {
     "data": {
      "text/plain": [
       "1.1372146405051726"
      ]
     },
     "execution_count": 269,
     "metadata": {},
     "output_type": "execute_result"
    }
   ],
   "source": [
    "ud = pwr2lo(1.11 , 3)\n",
    "ud"
   ]
  },
  {
   "cell_type": "code",
   "execution_count": 225,
   "metadata": {},
   "outputs": [
    {
     "data": {
      "text/plain": [
       "1.13"
      ]
     },
     "execution_count": 225,
     "metadata": {},
     "output_type": "execute_result"
    }
   ],
   "source": [
    "out = invpwr2lo(ud , 10)\n",
    "out"
   ]
  },
  {
   "cell_type": "code",
   "execution_count": 218,
   "metadata": {},
   "outputs": [
    {
     "data": {
      "text/plain": [
       "37346.0316939448"
      ]
     },
     "execution_count": 218,
     "metadata": {},
     "output_type": "execute_result"
    }
   ],
   "source": [
    "pwr2lo(out , 10)"
   ]
  },
  {
   "cell_type": "code",
   "execution_count": null,
   "metadata": {
    "collapsed": true
   },
   "outputs": [],
   "source": [
    "# let a ^ b = 4 , a = 4 ^ (1/b) ,  a^^b"
   ]
  },
  {
   "cell_type": "code",
   "execution_count": 305,
   "metadata": {},
   "outputs": [],
   "source": [
    "bob = np.array([4 , 7 , 12.3 , 12.25])"
   ]
  },
  {
   "cell_type": "code",
   "execution_count": 317,
   "metadata": {},
   "outputs": [
    {
     "data": {
      "text/plain": [
       "(2, 12.300000000000001)"
      ]
     },
     "execution_count": 317,
     "metadata": {},
     "output_type": "execute_result"
    }
   ],
   "source": [
    "index, value = max(enumerate(bob), key=operator.itemgetter(1))\n",
    "index , value"
   ]
  },
  {
   "cell_type": "code",
   "execution_count": 308,
   "metadata": {},
   "outputs": [
    {
     "name": "stdout",
     "output_type": "stream",
     "text": [
      "<enumerate object at 0x00000178DF358948>\n",
      "<enumerate object at 0x00000178DF358948>\n",
      "<enumerate object at 0x00000178DF358948>\n",
      "<enumerate object at 0x00000178DF358948>\n"
     ]
    }
   ],
   "source": [
    "for i in bob:\n",
    "    print(enumerate(bob))"
   ]
  },
  {
   "cell_type": "code",
   "execution_count": null,
   "metadata": {
    "collapsed": true
   },
   "outputs": [],
   "source": []
  },
  {
   "cell_type": "code",
   "execution_count": 394,
   "metadata": {
    "scrolled": false
   },
   "outputs": [
    {
     "name": "stdout",
     "output_type": "stream",
     "text": [
      "================================================\n",
      "constraint is 1.70\n",
      "================================================\n",
      "201.599 0.1 1.70 || 1.37\n",
      "14.199 0.2 1.70 || 1.62\n",
      "5.864 0.3 1.70 || 1.69\n",
      "3.768 0.4 1.70 || 1.72\n",
      "2.890 0.5 1.70 || 1.72\n",
      "2.421 0.6 1.70 || 1.72\n",
      "2.134 0.7 1.70 || 1.72\n",
      "1.941 0.8 1.70 || 1.71\n",
      "1.803 0.9 1.70 || 1.7\n",
      "1.700 1.0 1.70 || 1.7\n",
      "1.620 1.1 1.70 || 1.69\n",
      "1.556 1.2 1.70 || 1.68\n",
      "1.504 1.3 1.70 || 1.68\n",
      "1.461 1.4 1.70 || 1.67\n",
      "1.424 1.5 1.70 || 1.66\n",
      "1.393 1.6 1.70 || 1.66\n",
      "1.366 1.7 1.70 || 1.65\n",
      "1.343 1.8 1.70 || 1.64\n",
      "1.322 1.9 1.70 || 1.64\n",
      "1.304 2.0 1.70 || 1.63\n",
      "1.287 2.1 1.70 || 1.63\n",
      "1.273 2.2 1.70 || 1.62\n",
      "1.259 2.3 1.70 || 1.62\n",
      "1.247 2.4 1.70 || 1.61\n",
      "1.236 2.5 1.70 || 1.61\n",
      "1.226 2.6 1.70 || 1.6\n",
      "1.217 2.7 1.70 || 1.6\n",
      "1.209 2.8 1.70 || 1.59\n",
      "1.201 2.9 1.70 || 1.59\n",
      "1.193 3.0 1.70 || 1.59\n",
      "1.187 3.1 1.70 || 1.58\n",
      "1.180 3.2 1.70 || 1.58\n",
      "1.174 3.3 1.70 || 1.58\n",
      "1.169 3.4 1.70 || 1.57\n",
      "1.164 3.5 1.70 || 1.57\n",
      "1.159 3.6 1.70 || 1.57\n",
      "1.154 3.7 1.70 || 1.56\n",
      "1.150 3.8 1.70 || 1.56\n",
      "1.146 3.9 1.70 || 1.56\n",
      "1.142 4.0 1.70 || 1.55\n",
      "1.138 4.1 1.70 || 1.55\n",
      "1.135 4.2 1.70 || 1.55\n",
      "1.131 4.3 1.70 || 1.54\n",
      "1.128 4.4 1.70 || 1.54\n",
      "1.125 4.5 1.70 || 1.54\n",
      "1.122 4.6 1.70 || 1.54\n",
      "1.120 4.7 1.70 || 1.53\n",
      "1.117 4.8 1.70 || 1.53\n",
      "1.114 4.9 1.70 || 1.53\n",
      "1.112 5.0 1.70 || 1.53\n",
      "1.110 5.1 1.70 || 1.52\n",
      "1.107 5.2 1.70 || 1.52\n",
      "1.105 5.3 1.70 || 1.52\n",
      "1.103 5.4 1.70 || 1.52\n",
      "1.101 5.5 1.70 || 1.51\n",
      "1.099 5.6 1.70 || 1.51\n",
      "1.098 5.7 1.70 || 1.51\n",
      "1.096 5.8 1.70 || 1.51\n",
      "1.094 5.9 1.70 || 1.51\n",
      "1.092 6.0 1.70 || 1.5\n",
      "1.091 6.1 1.70 || 1.5\n",
      "1.089 6.2 1.70 || 1.5\n",
      "1.088 6.3 1.70 || 1.5\n",
      "1.086 6.4 1.70 || 1.5\n",
      "1.085 6.5 1.70 || 1.49\n",
      "1.084 6.6 1.70 || 1.49\n",
      "1.082 6.7 1.70 || 1.49\n",
      "1.081 6.8 1.70 || 1.49\n",
      "1.080 6.9 1.70 || 1.49\n",
      "1.079 7.0 1.70 || 1.49\n",
      "1.078 7.1 1.70 || 1.48\n",
      "1.076 7.2 1.70 || 1.48\n",
      "1.075 7.3 1.70 || 1.48\n",
      "1.074 7.4 1.70 || 1.48\n",
      "1.073 7.5 1.70 || 1.48\n",
      "1.072 7.6 1.70 || 1.48\n",
      "1.071 7.7 1.70 || 1.47\n",
      "1.070 7.8 1.70 || 1.47\n",
      "1.069 7.9 1.70 || 1.47\n",
      "1.069 8.0 1.70 || 1.47\n",
      "1.068 8.1 1.70 || 1.47\n",
      "1.067 8.2 1.70 || 1.47\n",
      "1.066 8.3 1.70 || 1.47\n",
      "1.065 8.4 1.70 || 1.46\n",
      "1.064 8.5 1.70 || 1.46\n",
      "1.064 8.6 1.70 || 1.46\n",
      "1.063 8.7 1.70 || 1.46\n",
      "1.062 8.8 1.70 || 1.46\n",
      "1.061 8.9 1.70 || 1.46\n",
      "1.061 9.0 1.70 || 1.46\n",
      "1.060 9.1 1.70 || 1.46\n",
      "1.059 9.2 1.70 || 1.45\n",
      "1.059 9.3 1.70 || 1.45\n",
      "1.058 9.4 1.70 || 1.45\n",
      "1.057 9.5 1.70 || 1.45\n",
      "1.057 9.6 1.70 || 1.45\n",
      "1.056 9.7 1.70 || 1.45\n",
      "1.056 9.8 1.70 || 1.45\n",
      "1.055 9.9 1.70 || 1.45\n"
     ]
    }
   ],
   "source": [
    "for q in range(7 , 8):\n",
    "    print(\"================================================\")\n",
    "    print(\"constraint is {0:.2f}\".format(1 + q/10))\n",
    "    print(\"================================================\")\n",
    "    for i in range(1 , 100):\n",
    "        b = i/10\n",
    "        a = (1 + q/10) ** (1/b)\n",
    "        b = int(b * 10)\n",
    "        ans = invpwr2lo(pwr2lo(a , b) , 10)\n",
    "        print(\"{0:.3f}\".format(a) , b/10 , \"{0:.2f}\".format(a ** (b/10)) , \"||\" , ans)"
   ]
  },
  {
   "cell_type": "code",
   "execution_count": null,
   "metadata": {
    "collapsed": true
   },
   "outputs": [],
   "source": []
  },
  {
   "cell_type": "code",
   "execution_count": 325,
   "metadata": {
    "scrolled": false
   },
   "outputs": [
    {
     "name": "stdout",
     "output_type": "stream",
     "text": [
      "1.1 || 1.6105100000000006 || 0.2 || 1.18\n",
      "1.11 || 1.6850581551000008 || 0.2 || 1.19\n",
      "1.12 || 1.7623416832000007 || 0.2 || 1.2\n",
      "1.13 || 1.8424351792999991 || 0.2 || 1.21\n",
      "1.14 || 1.925414582399999 || 0.2 || 1.22\n",
      "1.15 || 2.0113571874999994 || 0.2 || 1.23\n",
      "1.16 || 2.100341657599999 || 0.2 || 1.24\n",
      "1.17 || 2.192448035699999 || 0.2 || 1.25\n",
      "1.18 || 2.2877577567999996 || 0.2 || 1.26\n",
      "1.19 || 2.3863536598999993 || 0.2 || 1.27\n",
      "1.2 || 2.4883199999999994 || 0.2 || 1.28\n",
      "1.21 || 2.5937424600999996 || 0.2 || 1.29\n",
      "1.22 || 2.7027081631999996 || 0.2 || 1.3\n",
      "1.23 || 2.8153056842999997 || 0.2 || 1.3\n",
      "1.24 || 2.9316250623999998 || 0.2 || 1.31\n",
      "1.25 || 3.0517578125 || 0.2 || 1.32\n",
      "1.26 || 3.1757969376 || 0.2 || 1.33\n",
      "1.27 || 3.3038369407 || 0.2 || 1.34\n",
      "1.28 || 3.4359738368000006 || 0.2 || 1.34\n",
      "1.29 || 3.5723051649000004 || 0.2 || 1.35\n",
      "1.3 || 3.7129300000000005 || 0.2 || 1.36\n",
      "1.31 || 3.8579489651000007 || 0.2 || 1.37\n",
      "1.32 || 2.5229759113570696 || 0.3 || 1.38\n",
      "1.33 || 2.5872524282544407 || 0.3 || 1.39\n",
      "1.3399999999999999 || 2.652666551380288 || 0.3 || 1.4\n",
      "1.35 || 2.719229699540203 || 0.3 || 1.41\n",
      "1.3599999999999999 || 2.786953319980511 || 0.3 || 1.42\n",
      "1.37 || 2.8558488882476665 || 0.3 || 1.42\n",
      "1.38 || 2.92592790804933 || 0.3 || 1.43\n",
      "1.3900000000000001 || 2.997201911117183 || 0.3 || 1.44\n",
      "1.4 || 3.069682457071352 || 0.3 || 1.45\n",
      "1.41 || 3.143381133286512 || 0.3 || 1.46\n",
      "1.42 || 3.2183095547595393 || 0.3 || 1.47\n",
      "1.43 || 2.4453447393568046 || 0.4 || 1.48\n",
      "1.44 || 2.48832 || 0.4 || 1.49\n",
      "1.45 || 3.4505898522925507 || 0.3 || 1.49\n",
      "1.46 || 3.5305539526655214 || 0.3 || 1.5\n",
      "1.47 || 3.611806283090496 || 0.3 || 1.51\n",
      "1.48 || 3.6943586216044477 || 0.3 || 1.52\n",
      "1.49 || 2.709977412249039 || 0.4 || 1.53\n",
      "1.5 || 2.7556759606310752 || 0.4 || 1.54\n",
      "1.51 || 2.8018337879146222 || 0.4 || 1.55\n",
      "1.52 || 2.8484524224919046 || 0.4 || 1.56\n",
      "1.53 || 2.8955333877025144 || 0.4 || 1.57\n",
      "1.54 || 2.943078201883192 || 0.4 || 1.58\n",
      "1.55 || 2.991088378416793 || 0.4 || 1.58\n",
      "1.56 || 3.0395654257804687 || 0.4 || 1.59\n",
      "1.57 || 3.08851084759306 || 0.4 || 1.6\n",
      "1.58 || 3.1379261426617426 || 0.4 || 1.61\n",
      "1.59 || 3.1878128050279244 || 0.4 || 1.62\n",
      "1.6 || 3.238172324012421 || 0.4 || 1.63\n",
      "1.6099999999999999 || 3.2890061842599194 || 0.4 || 1.64\n",
      "1.62 || 3.340315865782756 || 0.4 || 1.65\n",
      "1.63 || 2.6569 || 0.5 || 1.66\n",
      "1.6400000000000001 || 2.6896000000000004 || 0.5 || 1.67\n",
      "1.65 || 2.7224999999999997 || 0.5 || 1.68\n",
      "1.66 || 2.7556 || 0.5 || 1.69\n",
      "1.67 || 3.6040530740681382 || 0.4 || 1.69\n",
      "1.68 || 3.6582485094372688 || 0.4 || 1.7\n",
      "1.69 || 3.7129299999999996 || 0.4 || 1.71\n",
      "1.7 || 3.7680989902071307 || 0.4 || 1.72\n",
      "1.71 || 2.9240999999999997 || 0.5 || 1.73\n",
      "1.72 || 2.9583999999999997 || 0.5 || 1.74\n",
      "1.73 || 2.9929 || 0.5 || 1.75\n",
      "1.74 || 3.0276 || 0.5 || 1.76\n",
      "1.75 || 3.0625 || 0.5 || 1.77\n",
      "1.76 || 3.0976 || 0.5 || 1.78\n",
      "1.77 || 3.1329000000000002 || 0.5 || 1.79\n",
      "1.78 || 3.1684 || 0.5 || 1.8\n",
      "1.79 || 2.6388926183716395 || 0.6 || 1.81\n"
     ]
    }
   ],
   "source": [
    "\n",
    "for p in range (10 , 80):\n",
    "    lis = np.array([])\n",
    "    q = p/10\n",
    "    #count = np.array([])\n",
    "    for i in range(2 , 200):\n",
    "        b = i/10\n",
    "        a = (1 + q/10) ** (1/b)\n",
    "        #print(a , b , a**b)\n",
    "        b = int(b * 10)\n",
    "        #pwr2lo(a , b)\n",
    "        ans = invpwr2lo(pwr2lo(a , b) , 10)\n",
    "        lis = np.append(lis , ans)\n",
    "        #count = np.append(count , a)\n",
    "        #print(\"{0:.3f}\".format(a) , b/10 , \"{0:.2f}\".format(a ** (b/10)) , \"||\" , ans)\n",
    "    index, value = max(enumerate(lis), key=operator.itemgetter(1))\n",
    "    a_val = (1 + q/10) ** (10 / (index + 2))\n",
    "    b_val = (index + 2) / 10\n",
    "    print(1 + q/10 , \"||\" , a_val , \"||\" , b_val , \"||\" , value)\n",
    "    "
   ]
  },
  {
   "cell_type": "code",
   "execution_count": null,
   "metadata": {
    "collapsed": true
   },
   "outputs": [],
   "source": []
  },
  {
   "cell_type": "code",
   "execution_count": null,
   "metadata": {
    "collapsed": true
   },
   "outputs": [],
   "source": []
  }
 ],
 "metadata": {
  "anaconda-cloud": {},
  "kernelspec": {
   "display_name": "Python 3",
   "language": "python",
   "name": "python3"
  },
  "language_info": {
   "codemirror_mode": {
    "name": "ipython",
    "version": 3
   },
   "file_extension": ".py",
   "mimetype": "text/x-python",
   "name": "python",
   "nbconvert_exporter": "python",
   "pygments_lexer": "ipython3",
   "version": "3.6.3"
  }
 },
 "nbformat": 4,
 "nbformat_minor": 1
}
