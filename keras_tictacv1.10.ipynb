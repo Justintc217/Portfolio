{
 "cells": [
  {
   "cell_type": "code",
   "execution_count": 1,
   "metadata": {
    "scrolled": false
   },
   "outputs": [
    {
     "name": "stdout",
     "output_type": "stream",
     "text": [
      "tf.estimator package not installed.\n",
      "tf.estimator package not installed.\n"
     ]
    }
   ],
   "source": [
    "from tictac_extra import *"
   ]
  },
  {
   "cell_type": "code",
   "execution_count": 2,
   "metadata": {},
   "outputs": [
    {
     "name": "stderr",
     "output_type": "stream",
     "text": [
      "Using TensorFlow backend.\n"
     ]
    }
   ],
   "source": [
    "from keras.layers import Dense, Flatten , Conv1D\n",
    "from keras.models import Input, Model\n",
    "\n",
    "from tcn import TCN"
   ]
  },
  {
   "cell_type": "code",
   "execution_count": 3,
   "metadata": {},
   "outputs": [],
   "source": [
    "class Neural():\n",
    "    def __init__(self , models):\n",
    "        self.models = models\n",
    "\n",
    "    def cho(self , board , edit_choice = 0 , who = 0):\n",
    "        board = list(board)\n",
    "        board = np.array(board_mod(board))\n",
    "        board = np.array([board[j] for j in win_cond])\n",
    "        model = self.models\n",
    "        #print(np.shape(board))\n",
    "        pred = model.predict(np.array([board]))\n",
    "        choices = pred[0].argsort()[::-1]  #highest to lowest\n",
    "        #print(choices)\n",
    "        pos = choices[edit_choice]\n",
    "        return pos"
   ]
  },
  {
   "cell_type": "code",
   "execution_count": 4,
   "metadata": {},
   "outputs": [],
   "source": [
    "def setup_model():\n",
    "    model = tf.keras.models.Sequential([\n",
    "      tf.keras.layers.Flatten(),\n",
    "      tf.keras.layers.Dense(12, activation=tf.nn.relu),\n",
    "      tf.keras.layers.Dense(12, activation=tf.nn.relu),\n",
    "      tf.keras.layers.Dropout(0.2),\n",
    "      tf.keras.layers.Dense(9, activation=tf.nn.softmax)\n",
    "    ])\n",
    "\n",
    "    model.compile(optimizer='adam', lr = 0.001,\n",
    "                  loss='sparse_categorical_crossentropy',\n",
    "                  metrics=['accuracy'])\n",
    "    return model"
   ]
  },
  {
   "cell_type": "code",
   "execution_count": 5,
   "metadata": {},
   "outputs": [],
   "source": [
    "def setup_cnn():   \n",
    "    model = tf.keras.models.Sequential([\n",
    "      tf.keras.layers.Conv2D(10 , (3,2) , activation = \"relu\" , input_shape = (8 , 3 , 2) , strides = (3,2)),\n",
    "      tf.keras.layers.Dropout(0.2),\n",
    "      tf.keras.layers.Flatten(),  \n",
    "      tf.keras.layers.Dense(12, activation=tf.nn.relu),\n",
    "      tf.keras.layers.Dropout(0.2),  \n",
    "      tf.keras.layers.Flatten(),\n",
    "      tf.keras.layers.Dense(9, activation=tf.nn.softmax)\n",
    "    ])\n",
    "\n",
    "    model.compile(optimizer='adam',\n",
    "                  loss='sparse_categorical_crossentropy',\n",
    "                  metrics=['accuracy'])\n",
    "    return model"
   ]
  },
  {
   "cell_type": "code",
   "execution_count": 6,
   "metadata": {},
   "outputs": [],
   "source": [
    "def match(rounds, actor_list , model_list = [None,None], show = False , see_score = True):\n",
    "    reset_score(score)\n",
    "    for r in range(rounds):\n",
    "        board = reset()\n",
    "        winner = play(board , actor_list , show)\n",
    "        loser = switch(winner , 1 ,2)\n",
    "        update_score(winner)\n",
    "        if winner == 0:\n",
    "            update_neural(1 , 2 , model_list[0]) # player 1 and model 0 corrects\n",
    "            update_neural(2 , 1 , model_list[1]) # player 2 and model 1 corrects (tie is good for p2)\n",
    "        #update_byneural(winner)\n",
    "        else:\n",
    "            update_neural(winner , 1 , model_list[winner - 1]) #-1 track index if winner is 2 then model is 1;second in the list\n",
    "            update_neural(loser , 2 , model_list[loser - 1])\n",
    "        if show:\n",
    "            festive(winner)\n",
    "    if see_score == True:\n",
    "        show_score(score)\n",
    "    \n",
    "def play(board, actor_list , show = False):\n",
    "    for t in who_play:\n",
    "        if action(board , actor_list[t - 1] , t , show):\n",
    "            return t\n",
    "    return 0\n",
    "\n",
    "def action(board, actor , who , show = False):\n",
    "    board , pos , run = place(board , actor , who)\n",
    "    save(board , pos , run) # remember this is post move board make sure to redact the change from the post move board\n",
    "    if show:\n",
    "        show_board(board)\n",
    "    return end(board , win_cond)\n",
    "    \n",
    "def place(board , actor , who , edit_choice = 0):\n",
    "    while True:\n",
    "        pos = actor(board , edit_choice , who)\n",
    "        if board[pos] == 0:\n",
    "            if edit_choice < 8:\n",
    "                run = actor(board , edit_choice + 1 , who)\n",
    "            else:\n",
    "                run = np.random.randint(9)\n",
    "            board[pos] = who\n",
    "            return board , pos , run\n",
    "        else:\n",
    "            edit_choice += 1\n",
    "            \n",
    "def save(board , pos , run):\n",
    "    global data\n",
    "    board = list(board)\n",
    "    board[pos] = 0\n",
    "    board_mod(board)\n",
    "    data.append([board , pos , run])\n",
    "    \n",
    "def reset():  # to update every round or not to update every round that is the question\n",
    "    global data\n",
    "    data = []\n",
    "    return [0] * 9\n",
    "\n",
    "def update_score(winner):\n",
    "    global score\n",
    "    score[winner] += 1\n",
    "    \n",
    "def update_neural(winner ,reward , model = None): #regular = 1 is actual moves, regular = 2 is runner up moves\n",
    "    if model != None:\n",
    "        actor = winner -1\n",
    "        global data\n",
    "        global pos_mat\n",
    "        win_data = np.array(data[actor::2])   #winner is 1st or 2nd player subtract by 1 to get states and actions of player\n",
    "        \n",
    "        board_data = np.array([win_data.item(x,0) for x in range(len(win_data))])\n",
    "        sym_board_data = np.array([board_sym(boards) for boards in board_data])\n",
    "        sym_board_data = np.concatenate(sym_board_data , axis = 0)\n",
    "        # bringing from 4D (whole list, sets of symmetries , board , one hots) to 3D without sets of symmetries\n",
    "        \n",
    "        move_data = np.array([win_data.item(x,reward) for x in range(len(win_data))])\n",
    "        sym_move_data = np.array([pos_mat[moves] for moves in move_data])\n",
    "        sym_move_data = np.concatenate(sym_move_data , axis = 0)\n",
    "        sym_board_data = np.array([[i[j] for j in win_cond] for i in sym_board_data])\n",
    "        model.fit(sym_board_data , sym_move_data , epochs = 1 , verbose = 0)"
   ]
  },
  {
   "cell_type": "code",
   "execution_count": 7,
   "metadata": {},
   "outputs": [],
   "source": [
    "def strat(board , edit_choice , who):\n",
    "    board = list(board)\n",
    "    other = switch(who , 1 , 2)\n",
    "    first =  testplace(board , who , init = True) \n",
    "    if isinstance(first, int):\n",
    "        return first\n",
    "    pos_list = {first[0][x]:0 for x in range(len(first[0]))}\n",
    "    for pos,board in zip(pos_list , first[1]):\n",
    "        recu(pos , board , who , other , pos_list)\n",
    "    \n",
    "    max_value = max(pos_list.values())\n",
    "    max_keys = [k for k, v in pos_list.items() if v == max_value]\n",
    "    return max_keys[0]\n",
    "    \n",
    "\n",
    "def recu(pos , b , who , other ,  pos_list , recursion = 0, params = (5 , 1)):\n",
    "    second = testplace(b , other)\n",
    "    if isinstance(second, int):\n",
    "        pos_list[pos] = pos_list[pos] - 1 * params[0] ** (-1* params[1] * turn(b))\n",
    "    else:\n",
    "        for j in second:\n",
    "            third = testplace(j , who) \n",
    "            if isinstance(third, int):\n",
    "                pos_list[pos] = pos_list[pos] + 1 * params[0] ** (-1* params[1] * turn(j))\n",
    "            elif turn(j) < 8 and recursion < 2:\n",
    "                recursion += 1\n",
    "                for k in third:\n",
    "                    recu(pos , k , who , other , pos_list)"
   ]
  },
  {
   "cell_type": "code",
   "execution_count": 55,
   "metadata": {},
   "outputs": [],
   "source": [
    "modelx , modelo = setup_model() , setup_model()"
   ]
  },
  {
   "cell_type": "code",
   "execution_count": 56,
   "metadata": {},
   "outputs": [],
   "source": [
    "models = [modelx , modelo]\n",
    "nu1 = Neural(modelx)\n",
    "nu2 = Neural(modelo)"
   ]
  },
  {
   "cell_type": "code",
   "execution_count": 59,
   "metadata": {
    "scrolled": false
   },
   "outputs": [
    {
     "name": "stdout",
     "output_type": "stream",
     "text": [
      "tie: 1 || p1win: 98 || p2win: 1\n",
      "tie: 14 || p1win: 23 || p2win: 63\n",
      "tie: 0 || p1win: 10 || p2win: 0\n",
      "-------------------------------\n",
      "tie: 1 || p1win: 96 || p2win: 3\n",
      "tie: 3 || p1win: 26 || p2win: 71\n",
      "tie: 0 || p1win: 10 || p2win: 0\n",
      "-------------------------------\n",
      "tie: 2 || p1win: 96 || p2win: 2\n",
      "tie: 6 || p1win: 27 || p2win: 67\n",
      "tie: 0 || p1win: 10 || p2win: 0\n",
      "-------------------------------\n",
      "tie: 1 || p1win: 95 || p2win: 4\n",
      "tie: 9 || p1win: 21 || p2win: 70\n",
      "tie: 0 || p1win: 10 || p2win: 0\n",
      "-------------------------------\n",
      "tie: 0 || p1win: 97 || p2win: 3\n",
      "tie: 4 || p1win: 30 || p2win: 66\n",
      "tie: 0 || p1win: 10 || p2win: 0\n",
      "-------------------------------\n",
      "tie: 1 || p1win: 95 || p2win: 4\n",
      "tie: 11 || p1win: 16 || p2win: 73\n",
      "tie: 0 || p1win: 10 || p2win: 0\n",
      "-------------------------------\n",
      "tie: 1 || p1win: 92 || p2win: 7\n",
      "tie: 7 || p1win: 21 || p2win: 72\n",
      "tie: 0 || p1win: 10 || p2win: 0\n",
      "-------------------------------\n",
      "tie: 0 || p1win: 97 || p2win: 3\n",
      "tie: 6 || p1win: 24 || p2win: 70\n",
      "tie: 0 || p1win: 10 || p2win: 0\n",
      "-------------------------------\n",
      "tie: 0 || p1win: 98 || p2win: 2\n",
      "tie: 8 || p1win: 25 || p2win: 67\n",
      "tie: 0 || p1win: 10 || p2win: 0\n",
      "-------------------------------\n",
      "tie: 2 || p1win: 95 || p2win: 3\n",
      "tie: 6 || p1win: 23 || p2win: 71\n",
      "tie: 0 || p1win: 10 || p2win: 0\n",
      "-------------------------------\n"
     ]
    }
   ],
   "source": [
    "#match(10000 , [ra , ra] , [modelx , modelo])\n",
    "#match(100 , [strat , ra] , [modelx , N])\n",
    "#match(100 , [ra , strat] , [N , modelo])\n",
    "\n",
    "for i in range(10):\n",
    "    match(100 , [nu1.cho , ra] ,  [modelx , N] , show = F)\n",
    "    match(100 , [ra , nu2.cho] , [N , modelo])\n",
    "    match(10 , [nu1.cho, nu2.cho] , [modelx , modelo])\n",
    "    print(\"-------------------------------\")"
   ]
  },
  {
   "cell_type": "code",
   "execution_count": null,
   "metadata": {},
   "outputs": [],
   "source": []
  }
 ],
 "metadata": {
  "kernelspec": {
   "display_name": "Python 3",
   "language": "python",
   "name": "python3"
  },
  "language_info": {
   "codemirror_mode": {
    "name": "ipython",
    "version": 3
   },
   "file_extension": ".py",
   "mimetype": "text/x-python",
   "name": "python",
   "nbconvert_exporter": "python",
   "pygments_lexer": "ipython3",
   "version": "3.6.7"
  }
 },
 "nbformat": 4,
 "nbformat_minor": 2
}
